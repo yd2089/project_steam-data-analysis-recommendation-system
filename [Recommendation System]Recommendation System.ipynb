{
 "cells": [
  {
   "cell_type": "markdown",
   "id": "6ec7a6b6-7cb0-4ebb-b708-4e880579771c",
   "metadata": {},
   "source": [
    "# Recommendation System for Steam Games"
   ]
  },
  {
   "cell_type": "markdown",
   "id": "7d9e66cc-1f5a-4546-a596-cdabcd96a3fc",
   "metadata": {
    "jp-MarkdownHeadingCollapsed": true
   },
   "source": [
    "## Data cleaning"
   ]
  },
  {
   "cell_type": "markdown",
   "id": "94e454c6-748e-4eae-bd6c-3feb7aa41ed2",
   "metadata": {
    "jp-MarkdownHeadingCollapsed": true
   },
   "source": [
    "### Data Loading"
   ]
  },
  {
   "cell_type": "code",
   "execution_count": 1,
   "id": "ba108b9f-fdc9-4633-8831-a82c1d822edd",
   "metadata": {},
   "outputs": [
    {
     "name": "stderr",
     "output_type": "stream",
     "text": [
      "                                                                                \r"
     ]
    }
   ],
   "source": [
    "from pyspark.sql import SparkSession\n",
    "\n",
    "# Initialize Spark session\n",
    "spark = SparkSession.builder.appName(\"DataCleaning\").getOrCreate()\n",
    "\n",
    "# Load CSV files into DataFrames\n",
    "review = spark.read.csv(\"gs://msca-bdp-student-gcs/Group5/english_reviews/part-00000-dbebe656-10b1-42c2-93d1-bf55b07e437d-c000.csv\", header=True, inferSchema=True)"
   ]
  },
  {
   "cell_type": "code",
   "execution_count": 4,
   "id": "c5f4d982-b832-4075-913a-1ba268946813",
   "metadata": {},
   "outputs": [
    {
     "data": {
      "text/plain": [
       "[Row(recommendationid=148912575, appid=10, game='Counter-Strike', author_steamid=76561198363716821, author_num_games_owned=0, author_num_reviews=2, author_playtime_forever=197, author_playtime_last_two_weeks=41, author_playtime_at_review=197, author_last_played=1698329401, language='english', review='GOAT Game !!', timestamp_created='1698329419', timestamp_updated='1698329419', voted_up='1', votes_up='0', votes_funny='0', weighted_vote_score='0.0', comment_count='0', steam_purchase='1', received_for_free='0', written_during_early_access='0', hidden_in_steam_china='1', steam_china_location=None),\n",
       " Row(recommendationid=148895540, appid=10, game='Counter-Strike', author_steamid=76561198134752176, author_num_games_owned=69, author_num_reviews=1, author_playtime_forever=12107, author_playtime_last_two_weeks=0, author_playtime_at_review=12107, author_last_played=1670487891, language='english', review='First crush. Always in my heart.', timestamp_created='1698306096', timestamp_updated='1698306096', voted_up='1', votes_up='0', votes_funny='0', weighted_vote_score='0.0', comment_count='0', steam_purchase='0', received_for_free='0', written_during_early_access='0', hidden_in_steam_china='1', steam_china_location=None)]"
      ]
     },
     "execution_count": 4,
     "metadata": {},
     "output_type": "execute_result"
    }
   ],
   "source": [
    "review.head(2)"
   ]
  },
  {
   "cell_type": "code",
   "execution_count": 5,
   "id": "5d8e5257-5701-4869-8b77-f6436a87d50f",
   "metadata": {},
   "outputs": [
    {
     "name": "stdout",
     "output_type": "stream",
     "text": [
      "root\n",
      " |-- recommendationid: integer (nullable = true)\n",
      " |-- appid: integer (nullable = true)\n",
      " |-- game: string (nullable = true)\n",
      " |-- author_steamid: long (nullable = true)\n",
      " |-- author_num_games_owned: integer (nullable = true)\n",
      " |-- author_num_reviews: integer (nullable = true)\n",
      " |-- author_playtime_forever: integer (nullable = true)\n",
      " |-- author_playtime_last_two_weeks: integer (nullable = true)\n",
      " |-- author_playtime_at_review: integer (nullable = true)\n",
      " |-- author_last_played: integer (nullable = true)\n",
      " |-- language: string (nullable = true)\n",
      " |-- review: string (nullable = true)\n",
      " |-- timestamp_created: string (nullable = true)\n",
      " |-- timestamp_updated: string (nullable = true)\n",
      " |-- voted_up: string (nullable = true)\n",
      " |-- votes_up: string (nullable = true)\n",
      " |-- votes_funny: string (nullable = true)\n",
      " |-- weighted_vote_score: string (nullable = true)\n",
      " |-- comment_count: string (nullable = true)\n",
      " |-- steam_purchase: string (nullable = true)\n",
      " |-- received_for_free: string (nullable = true)\n",
      " |-- written_during_early_access: string (nullable = true)\n",
      " |-- hidden_in_steam_china: string (nullable = true)\n",
      " |-- steam_china_location: string (nullable = true)\n",
      "\n"
     ]
    }
   ],
   "source": [
    "review.printSchema()"
   ]
  },
  {
   "cell_type": "markdown",
   "id": "7c3b4ce5-8500-4762-83e0-d53b2e66d858",
   "metadata": {
    "jp-MarkdownHeadingCollapsed": true
   },
   "source": [
    "### Check missing values in important columns"
   ]
  },
  {
   "cell_type": "code",
   "execution_count": 6,
   "id": "4fd6dfdd-04b1-431b-ad10-6fc69d37b10c",
   "metadata": {},
   "outputs": [
    {
     "name": "stderr",
     "output_type": "stream",
     "text": [
      "                                                                                \r"
     ]
    },
    {
     "name": "stdout",
     "output_type": "stream",
     "text": [
      "Number of null values in 'appid': 0\n"
     ]
    },
    {
     "name": "stderr",
     "output_type": "stream",
     "text": [
      "                                                                                \r"
     ]
    },
    {
     "name": "stdout",
     "output_type": "stream",
     "text": [
      "Number of null values in 'author_steamid': 0\n"
     ]
    },
    {
     "name": "stderr",
     "output_type": "stream",
     "text": [
      "                                                                                \r"
     ]
    },
    {
     "name": "stdout",
     "output_type": "stream",
     "text": [
      "Number of null values in 'review': 15743\n"
     ]
    },
    {
     "name": "stderr",
     "output_type": "stream",
     "text": [
      "[Stage 12:=====================================================>(140 + 2) / 142]\r"
     ]
    },
    {
     "name": "stdout",
     "output_type": "stream",
     "text": [
      "Number of null values in 'voted_up': 9171\n"
     ]
    },
    {
     "name": "stderr",
     "output_type": "stream",
     "text": [
      "                                                                                \r"
     ]
    }
   ],
   "source": [
    "from pyspark.sql.functions import col\n",
    "\n",
    "# Check for null values in each column\n",
    "columns_to_check = [\"appid\", \"author_steamid\", \"review\", \"voted_up\"]\n",
    "\n",
    "for column in columns_to_check:\n",
    "    null_count = review.filter(col(column).isNull()).count()\n",
    "    print(f\"Number of null values in '{column}': {null_count}\")"
   ]
  },
  {
   "cell_type": "code",
   "execution_count": 2,
   "id": "dd905748-137c-4e3e-b40d-5daeead01057",
   "metadata": {},
   "outputs": [
    {
     "name": "stderr",
     "output_type": "stream",
     "text": [
      "                                                                                \r"
     ]
    },
    {
     "name": "stdout",
     "output_type": "stream",
     "text": [
      "Number of rows before dropping nulls: 51544179\n"
     ]
    },
    {
     "name": "stderr",
     "output_type": "stream",
     "text": [
      "[Stage 5:======================================================>(141 + 1) / 142]\r"
     ]
    },
    {
     "name": "stdout",
     "output_type": "stream",
     "text": [
      "Number of rows after dropping nulls: 51519266\n"
     ]
    },
    {
     "name": "stderr",
     "output_type": "stream",
     "text": [
      "                                                                                \r"
     ]
    }
   ],
   "source": [
    "# Drop rows with null values in the specified columns\n",
    "columns_to_check = [\"appid\", \"author_steamid\", \"review\", \"voted_up\"]\n",
    "cleaned_review = review.dropna(subset=columns_to_check)\n",
    "\n",
    "print(f\"Number of rows before dropping nulls: {review.count()}\")\n",
    "print(f\"Number of rows after dropping nulls: {cleaned_review.count()}\")"
   ]
  },
  {
   "cell_type": "markdown",
   "id": "9446fbfc-6c8c-4cd2-92a3-76c42aa7a941",
   "metadata": {
    "jp-MarkdownHeadingCollapsed": true
   },
   "source": [
    "### Check the review column"
   ]
  },
  {
   "cell_type": "code",
   "execution_count": 8,
   "id": "759a78e6-7af8-44cf-9a13-7be1669a9aad",
   "metadata": {},
   "outputs": [
    {
     "name": "stdout",
     "output_type": "stream",
     "text": [
      "+--------------------+\n",
      "|              review|\n",
      "+--------------------+\n",
      "|        GOAT Game !!|\n",
      "|First crush. Alwa...|\n",
      "|best version of c...|\n",
      "|a game everyone n...|\n",
      "|        old but gold|\n",
      "|                   y|\n",
      "|cs2 update made t...|\n",
      "|     GAY NIGGER GAME|\n",
      "|Counter-Strike 1....|\n",
      "|               shoot|\n",
      "|              GOATED|\n",
      "|           it's good|\n",
      "|              tjucdg|\n",
      "|      best game ever|\n",
      "|I didn't get to p...|\n",
      "|                  :)|\n",
      "|      best game ever|\n",
      "|           BEST GAME|\n",
      "|the game of my ch...|\n",
      "|                njeh|\n",
      "+--------------------+\n",
      "only showing top 20 rows\n",
      "\n"
     ]
    }
   ],
   "source": [
    "# Select the relevant column for sentiment analysis\n",
    "data = cleaned_review.select(\"review\")\n",
    "data.show()"
   ]
  },
  {
   "cell_type": "code",
   "execution_count": 3,
   "id": "cbc525bd-2cd6-4df3-9f8a-1a3d6669bfee",
   "metadata": {},
   "outputs": [
    {
     "name": "stdout",
     "output_type": "stream",
     "text": [
      "Number of English words loaded: 466545\n"
     ]
    }
   ],
   "source": [
    "import gcsfs\n",
    "\n",
    "# Initialize a GCS filesystem\n",
    "fs = gcsfs.GCSFileSystem()\n",
    "\n",
    "# Read the file from GCS\n",
    "with fs.open(\"gs://msca-bdp-student-gcs/Group5/english_reviews/words.txt\", \"r\") as f:\n",
    "    english_words = set(word.strip().lower() for word in f)\n",
    "\n",
    "# Print the number of words loaded (optional)\n",
    "print(f\"Number of English words loaded: {len(english_words)}\")"
   ]
  },
  {
   "cell_type": "code",
   "execution_count": 3,
   "id": "d1f1623b-412f-4aba-b385-29f35843b60a",
   "metadata": {},
   "outputs": [
    {
     "name": "stderr",
     "output_type": "stream",
     "text": [
      "                                                                                \r"
     ]
    },
    {
     "name": "stdout",
     "output_type": "stream",
     "text": [
      "Number of reviews with no semantic meaning: 3771165\n",
      "+----------------------------------+\n",
      "|review                            |\n",
      "+----------------------------------+\n",
      "|GOATED                            |\n",
      "|tjucdg                            |\n",
      "|:)                                |\n",
      "|njeh                              |\n",
      "|yeyeee                            |\n",
      "|++                                |\n",
      "|(Y)                               |\n",
      "|kantır                            |\n",
      "|cs1.6 > cs2                       |\n",
      "|kaunter straik globalnaja ofensiva|\n",
      "+----------------------------------+\n",
      "only showing top 10 rows\n",
      "\n"
     ]
    }
   ],
   "source": [
    "from pyspark.sql.functions import udf, col\n",
    "from pyspark.sql.types import BooleanType\n",
    "import gcsfs\n",
    "\n",
    "# Initialize a GCS filesystem\n",
    "fs = gcsfs.GCSFileSystem()\n",
    "\n",
    "# Load a list of English words from a file in GCS\n",
    "with fs.open(\"gs://msca-bdp-student-gcs/Group5/english_reviews/words.txt\", \"r\") as f:\n",
    "    english_words = set(word.strip().lower() for word in f)\n",
    "\n",
    "# Broadcast the English words set\n",
    "broadcast_english_words = spark.sparkContext.broadcast(english_words)\n",
    "\n",
    "# UDF to check semantic meaning without langdetect\n",
    "def has_semantic_meaning(review):\n",
    "    try:\n",
    "        # Check if most words are valid English words\n",
    "        word_list = review.split()\n",
    "        valid_words = [word for word in word_list if word.lower() in broadcast_english_words.value]\n",
    "        return len(valid_words) / max(len(word_list), 1) >= 0.5  # At least 50% valid words\n",
    "    except Exception:\n",
    "        return False  # Handle errors\n",
    "\n",
    "# Register the UDF\n",
    "semantic_udf = udf(has_semantic_meaning, BooleanType())\n",
    "\n",
    "# Filter reviews with no semantic meaning\n",
    "nonsensical_reviews = cleaned_review.filter(~semantic_udf(col(\"review\")))\n",
    "\n",
    "# Count and show nonsensical reviews\n",
    "nonsensical_count = nonsensical_reviews.count()\n",
    "print(f\"Number of reviews with no semantic meaning: {nonsensical_count}\")\n",
    "\n",
    "# Show examples\n",
    "nonsensical_reviews.select(\"review\").show(10, truncate=False)"
   ]
  },
  {
   "cell_type": "code",
   "execution_count": 5,
   "id": "f7a82eb5-3d25-4d03-ae1a-65780671fd87",
   "metadata": {},
   "outputs": [
    {
     "name": "stderr",
     "output_type": "stream",
     "text": [
      "                                                                                \r"
     ]
    },
    {
     "name": "stdout",
     "output_type": "stream",
     "text": [
      "Number of reviews with semantic meaning: 47748101\n",
      "+-----------------------------------------------------------------------------------------------------------------------------------------------------------------------------------------------------------------------------------------------------------------------------------------------------------------------------------------------------------------------------------------------------------------------------------------------------------------------------------------------------------------------------------------------------------------------------------------------------------------------------------------------------------------------------------------------------------------------------------------------------------------------------------------------------------------------------------------------------------------------------------------------------------------------------------------------------------------------------------------------------------------------------------------------------------------------------------------------------------------------------------------------------------------+\n",
      "|review                                                                                                                                                                                                                                                                                                                                                                                                                                                                                                                                                                                                                                                                                                                                                                                                                                                                                                                                                                                                                                                                                                                                                           |\n",
      "+-----------------------------------------------------------------------------------------------------------------------------------------------------------------------------------------------------------------------------------------------------------------------------------------------------------------------------------------------------------------------------------------------------------------------------------------------------------------------------------------------------------------------------------------------------------------------------------------------------------------------------------------------------------------------------------------------------------------------------------------------------------------------------------------------------------------------------------------------------------------------------------------------------------------------------------------------------------------------------------------------------------------------------------------------------------------------------------------------------------------------------------------------------------------+\n",
      "|GOAT Game !!                                                                                                                                                                                                                                                                                                                                                                                                                                                                                                                                                                                                                                                                                                                                                                                                                                                                                                                                                                                                                                                                                                                                                     |\n",
      "|First crush. Always in my heart.                                                                                                                                                                                                                                                                                                                                                                                                                                                                                                                                                                                                                                                                                                                                                                                                                                                                                                                                                                                                                                                                                                                                 |\n",
      "|best version of cs ever, history.                                                                                                                                                                                                                                                                                                                                                                                                                                                                                                                                                                                                                                                                                                                                                                                                                                                                                                                                                                                                                                                                                                                                |\n",
      "|a game everyone needs, but not to play.                                                                                                                                                                                                                                                                                                                                                                                                                                                                                                                                                                                                                                                                                                                                                                                                                                                                                                                                                                                                                                                                                                                          |\n",
      "|old but gold                                                                                                                                                                                                                                                                                                                                                                                                                                                                                                                                                                                                                                                                                                                                                                                                                                                                                                                                                                                                                                                                                                                                                     |\n",
      "|y                                                                                                                                                                                                                                                                                                                                                                                                                                                                                                                                                                                                                                                                                                                                                                                                                                                                                                                                                                                                                                                                                                                                                                |\n",
      "|cs2 update made the game barely playable on my laptop, decided to give the good old classics a try, had this in my library for a while  this game is nearly impossible to play in 2023 due to most community servers being a cesspool of ugly, visually distracting customization that shits on original game's solid half-life low poly aesthetics, power creeping admins and pay to win donation systems, absolutely unbearable community - most people on the closest servers with playable ping rates were not very well-adjusted eastern european boomers who grew up with it, this game's main audience really, and the worst on top of everything - servers that can inject your pc with malicious software, since there is zero restriction or review process on what custom content server admins can force you to download  in the best case you can have some fun with bots (that you have to set up manually, there is a guide, though i swear to god they were a part of the game before?) but you can only play so much with bots  all in all more of a museum artifact of a long gone online gaming era than an actual playable game  a damn shame|\n",
      "|GAY NIGGER GAME                                                                                                                                                                                                                                                                                                                                                                                                                                                                                                                                                                                                                                                                                                                                                                                                                                                                                                                                                                                                                                                                                                                                                  |\n",
      "|Counter-Strike 1.6 was a significant part of my childhood. It was the first FPS game I ever played, and I first experienced it in 2005 on my oldest Steam account, which, unfortunately, I no longer use.   My memories from the days of playing Counter-Strike 1.6 are filled with joy and excitement. I recall the long nights spent gaming with friends, where we fought together in the game and forged friendships that extended far beyond the computer screen  We learned to cooperate, communicate, and trust each other to win matches. These experiences shaped my social skills and taught me the importance of teamwork.  Some of my closest friends today are the ones I met on various Counter-Strike servers. We didn't just share virtual battles but also life's joys and challenges. These friendships are precious, and I'm grateful for the memories we've created together.  Even though time has passed, and we may have lost touch, the memories of those good old Counter-Strike days will always be a part of me. It's amazing how a game could connect us and create lasting friendships that will endure a lifetime. ❤️               |\n",
      "|shoot                                                                                                                                                                                                                                                                                                                                                                                                                                                                                                                                                                                                                                                                                                                                                                                                                                                                                                                                                                                                                                                                                                                                                            |\n",
      "+-----------------------------------------------------------------------------------------------------------------------------------------------------------------------------------------------------------------------------------------------------------------------------------------------------------------------------------------------------------------------------------------------------------------------------------------------------------------------------------------------------------------------------------------------------------------------------------------------------------------------------------------------------------------------------------------------------------------------------------------------------------------------------------------------------------------------------------------------------------------------------------------------------------------------------------------------------------------------------------------------------------------------------------------------------------------------------------------------------------------------------------------------------------------+\n",
      "only showing top 10 rows\n",
      "\n"
     ]
    },
    {
     "name": "stderr",
     "output_type": "stream",
     "text": [
      "                                                                                \r"
     ]
    }
   ],
   "source": [
    "# Filter reviews with semantic meaning (inverse of nonsensical)\n",
    "filtered_reviews = cleaned_review.filter(semantic_udf(col(\"review\")))\n",
    "\n",
    "# Count the remaining reviews\n",
    "remaining_count = filtered_reviews.count()\n",
    "print(f\"Number of reviews with semantic meaning: {remaining_count}\")\n",
    "\n",
    "# Display a few examples of meaningful reviews\n",
    "filtered_reviews.select(\"review\").show(10, truncate=False)"
   ]
  },
  {
   "cell_type": "markdown",
   "id": "c6ba6f39-bcef-4650-b81b-eee1d2f93586",
   "metadata": {
    "jp-MarkdownHeadingCollapsed": true
   },
   "source": [
    "### Check whether some users created multiple reviews after the filtering"
   ]
  },
  {
   "cell_type": "code",
   "execution_count": 12,
   "id": "d92f4971-7400-41f7-a3e7-e1a1ae000103",
   "metadata": {},
   "outputs": [
    {
     "name": "stderr",
     "output_type": "stream",
     "text": [
      "                                                                                \r"
     ]
    },
    {
     "name": "stdout",
     "output_type": "stream",
     "text": [
      "+-----------------+---------------+\n",
      "|   author_steamid|distinct_appids|\n",
      "+-----------------+---------------+\n",
      "|76561198890674540|              5|\n",
      "|76561198045701284|              6|\n",
      "|76561198799410132|              5|\n",
      "|76561198331817782|              2|\n",
      "|76561198152726200|              9|\n",
      "|76561199112667458|              6|\n",
      "|76561198192842693|              6|\n",
      "|76561198121156197|              3|\n",
      "|76561198393902835|              2|\n",
      "|76561198165441867|              8|\n",
      "|76561198074386816|              3|\n",
      "|76561198288350718|              2|\n",
      "|76561198101265793|             10|\n",
      "|76561198047937382|              3|\n",
      "|76561198114376048|             13|\n",
      "|76561199076437074|              3|\n",
      "|76561198339278681|              4|\n",
      "|76561199105996769|             11|\n",
      "|76561199140222789|              3|\n",
      "|76561199106887592|             12|\n",
      "+-----------------+---------------+\n",
      "only showing top 20 rows\n",
      "\n"
     ]
    },
    {
     "name": "stderr",
     "output_type": "stream",
     "text": [
      "[Stage 41:====================================================>   (16 + 1) / 17]\r"
     ]
    },
    {
     "name": "stdout",
     "output_type": "stream",
     "text": [
      "Number of authors with reviews for multiple appids: 7023825\n"
     ]
    },
    {
     "name": "stderr",
     "output_type": "stream",
     "text": [
      "                                                                                \r"
     ]
    }
   ],
   "source": [
    "from pyspark.sql.functions import col, countDistinct\n",
    "\n",
    "# Group by author_steamid and count distinct appid\n",
    "multiple_appid_authors = filtered_reviews.groupBy(\"author_steamid\") \\\n",
    "    .agg(countDistinct(\"appid\").alias(\"distinct_appids\")) \\\n",
    "    .filter(col(\"distinct_appids\") > 1)\n",
    "\n",
    "# Show the results\n",
    "multiple_appid_authors.show()\n",
    "\n",
    "# Count the number of such authors\n",
    "num_authors = multiple_appid_authors.count()\n",
    "print(f\"Number of authors with reviews for multiple appids: {num_authors}\")"
   ]
  },
  {
   "cell_type": "markdown",
   "id": "4311e7a3-5397-4943-b0ea-269de884856b",
   "metadata": {
    "jp-MarkdownHeadingCollapsed": true
   },
   "source": [
    "### Text Preprocessing"
   ]
  },
  {
   "cell_type": "code",
   "execution_count": 6,
   "id": "1b655889-34bb-479d-8b9c-759305605f8b",
   "metadata": {},
   "outputs": [
    {
     "name": "stderr",
     "output_type": "stream",
     "text": [
      "                                                                                \r"
     ]
    },
    {
     "data": {
      "text/plain": [
       "[Row(recommendationid=148912575, appid=10, game='Counter-Strike', author_steamid=76561198363716821, author_num_games_owned=0, author_num_reviews=2, author_playtime_forever=197, author_playtime_last_two_weeks=41, author_playtime_at_review=197, author_last_played=1698329401, language='english', review='GOAT Game !!', timestamp_created='1698329419', timestamp_updated='1698329419', voted_up='1', votes_up='0', votes_funny='0', weighted_vote_score='0.0', comment_count='0', steam_purchase='1', received_for_free='0', written_during_early_access='0', hidden_in_steam_china='1', steam_china_location=None, cleaned_review='goat game'),\n",
       " Row(recommendationid=148895540, appid=10, game='Counter-Strike', author_steamid=76561198134752176, author_num_games_owned=69, author_num_reviews=1, author_playtime_forever=12107, author_playtime_last_two_weeks=0, author_playtime_at_review=12107, author_last_played=1670487891, language='english', review='First crush. Always in my heart.', timestamp_created='1698306096', timestamp_updated='1698306096', voted_up='1', votes_up='0', votes_funny='0', weighted_vote_score='0.0', comment_count='0', steam_purchase='0', received_for_free='0', written_during_early_access='0', hidden_in_steam_china='1', steam_china_location=None, cleaned_review='first crush always my heart')]"
      ]
     },
     "execution_count": 6,
     "metadata": {},
     "output_type": "execute_result"
    }
   ],
   "source": [
    "from pyspark.sql.functions import udf, col\n",
    "from pyspark.sql.types import StringType\n",
    "import re\n",
    "\n",
    "# Define a custom list of stop words (you can expand this list as needed)\n",
    "STOP_WORDS = {\"a\", \"an\", \"the\", \"and\", \"or\", \"not\", \"to\", \"is\", \"it\", \"in\", \"for\", \"on\", \"of\", \"this\", \"that\", \"with\", \"was\", \"are\"}\n",
    "\n",
    "# Define the text preprocessing function\n",
    "def preprocess_text_no_nltk(text):\n",
    "    if text is None:  # Handle null values\n",
    "        return \"\"\n",
    "    # Lowercase text\n",
    "    text = text.lower()\n",
    "    # Remove special characters and digits\n",
    "    text = re.sub(r'[^a-z\\s]', '', text)\n",
    "    # Tokenize (split by spaces)\n",
    "    tokens = text.split()\n",
    "    # Remove stop words\n",
    "    tokens = [word for word in tokens if word not in STOP_WORDS]\n",
    "    return ' '.join(tokens)\n",
    "\n",
    "# Register the UDF\n",
    "preprocess_text_udf = udf(preprocess_text_no_nltk, StringType())\n",
    "\n",
    "# Apply preprocessing to the review column\n",
    "filtered_reviews = filtered_reviews.withColumn(\"cleaned_review\", preprocess_text_udf(col(\"review\")))\n",
    "filtered_reviews.head(2)"
   ]
  },
  {
   "cell_type": "code",
   "execution_count": null,
   "id": "8192e641-7525-4976-8c8e-80652b92802e",
   "metadata": {},
   "outputs": [
    {
     "name": "stderr",
     "output_type": "stream",
     "text": [
      "24/11/16 23:28:41 INFO com.google.cloud.hadoop.repackaged.gcs.com.google.cloud.hadoop.gcsio.GoogleCloudStorageFileSystem: Successfully repaired 'gs://msca-bdp-student-gcs/Group5/filtered_reviews/' directory.\n"
     ]
    },
    {
     "name": "stdout",
     "output_type": "stream",
     "text": [
      "Export successful!\n"
     ]
    }
   ],
   "source": [
    "#filtered_reviews.coalesce(1).write.csv(\n",
    "#    \"gs://msca-bdp-student-gcs/Group5/filtered_reviews\",\n",
    "#    header=True,\n",
    "#    mode=\"overwrite\"\n",
    "#)\n",
    "#\n",
    "#print(\"Export successful!\")"
   ]
  },
  {
   "cell_type": "markdown",
   "id": "6c5b90a5-b623-4caa-af68-514b16077370",
   "metadata": {
    "jp-MarkdownHeadingCollapsed": true
   },
   "source": [
    "## Sentiment Score Model"
   ]
  },
  {
   "cell_type": "markdown",
   "id": "af887150-faf0-496c-95ba-e68cb4e5edcf",
   "metadata": {
    "jp-MarkdownHeadingCollapsed": true
   },
   "source": [
    "### Data Processing"
   ]
  },
  {
   "cell_type": "code",
   "execution_count": 1,
   "id": "339de79f-2da4-4e9c-b779-bc0277784cbb",
   "metadata": {},
   "outputs": [
    {
     "name": "stderr",
     "output_type": "stream",
     "text": [
      "                                                                                \r"
     ]
    }
   ],
   "source": [
    "from pyspark.sql import SparkSession\n",
    "\n",
    "# Initialize Spark session\n",
    "spark = SparkSession.builder.appName(\"GameModel\").getOrCreate()\n",
    "\n",
    "# Load CSV files into DataFrames\n",
    "filtered_reviews = spark.read.csv(\"gs://msca-bdp-student-gcs/Group5/filtered_reviews/part-00000-699f208e-6876-43bf-aa8c-315adc363e63-c000.csv\", header=True, inferSchema=True)"
   ]
  },
  {
   "cell_type": "code",
   "execution_count": 27,
   "id": "01d36912-6b71-42a9-8d6d-b02207a8f1f1",
   "metadata": {},
   "outputs": [
    {
     "name": "stdout",
     "output_type": "stream",
     "text": [
      "+----------------+-----+--------------+-----------------+----------------------+------------------+-----------------------+------------------------------+-------------------------+------------------+--------+--------------------+-----------------+-----------------+--------+-----------+-------------------+-------------+--------------+-----------------+---------------------------+---------------------+--------------------+--------------------+-----+\n",
      "|recommendationid|appid|          game|   author_steamid|author_num_games_owned|author_num_reviews|author_playtime_forever|author_playtime_last_two_weeks|author_playtime_at_review|author_last_played|language|              review|timestamp_created|timestamp_updated|votes_up|votes_funny|weighted_vote_score|comment_count|steam_purchase|received_for_free|written_during_early_access|hidden_in_steam_china|steam_china_location|      cleaned_review|label|\n",
      "+----------------+-----+--------------+-----------------+----------------------+------------------+-----------------------+------------------------------+-------------------------+------------------+--------+--------------------+-----------------+-----------------+--------+-----------+-------------------+-------------+--------------+-----------------+---------------------------+---------------------+--------------------+--------------------+-----+\n",
      "|       148912575|   10|Counter-Strike|76561198363716821|                     0|                 2|                    197|                            41|                      197|        1698329401| english|        GOAT Game !!|       1698329419|       1698329419|       0|          0|                0.0|            0|             1|                0|                          0|                    1|                null|           goat game|  1.0|\n",
      "|       148895540|   10|Counter-Strike|76561198134752176|                    69|                 1|                  12107|                             0|                    12107|        1670487891| english|First crush. Alwa...|       1698306096|       1698306096|       0|          0|                0.0|            0|             0|                0|                          0|                    1|                null|first crush alway...|  1.0|\n",
      "+----------------+-----+--------------+-----------------+----------------------+------------------+-----------------------+------------------------------+-------------------------+------------------+--------+--------------------+-----------------+-----------------+--------+-----------+-------------------+-------------+--------------+-----------------+---------------------------+---------------------+--------------------+--------------------+-----+\n",
      "only showing top 2 rows\n",
      "\n"
     ]
    }
   ],
   "source": [
    "from pyspark.sql.functions import when, col\n",
    "\n",
    "# Filter reviews to exclude rows where either 'cleaned_review' or 'voted_up' is null or empty\n",
    "reviews = filtered_reviews.filter(\n",
    "    ~(col(\"cleaned_review\").isNull() | (col(\"cleaned_review\") == \"\") |\n",
    "      col(\"voted_up\").isNull() | (col(\"voted_up\") == \"\"))\n",
    ")\n",
    "\n",
    "# Convert 'voted_up' to numeric using 'label'\n",
    "reviews = reviews.withColumn(\n",
    "    'label',\n",
    "    when(col('voted_up') == '1', 1.0).when(col('voted_up') == '0', 0.0)\n",
    ")\n",
    "\n",
    "# Drop the 'voted_up' column\n",
    "reviews = reviews.drop('voted_up')\n",
    "\n",
    "# Show the updated DataFrame\n",
    "reviews.show(2)"
   ]
  },
  {
   "cell_type": "code",
   "execution_count": 28,
   "id": "339cfad0-a90d-41c3-a2a4-9bd2b2aaa47c",
   "metadata": {},
   "outputs": [
    {
     "data": {
      "text/plain": [
       "[Row(recommendationid=148912575, appid=10, game='Counter-Strike', author_steamid=76561198363716821, author_num_games_owned=0, author_num_reviews=2, author_playtime_forever=197, author_playtime_last_two_weeks=41, author_playtime_at_review=197, author_last_played=1698329401, language='english', review='GOAT Game !!', timestamp_created='1698329419', timestamp_updated='1698329419', votes_up='0', votes_funny='0', weighted_vote_score='0.0', comment_count='0', steam_purchase='1', received_for_free='0', written_during_early_access='0', hidden_in_steam_china='1', steam_china_location=None, cleaned_review='goat game', label=1.0),\n",
       " Row(recommendationid=148895540, appid=10, game='Counter-Strike', author_steamid=76561198134752176, author_num_games_owned=69, author_num_reviews=1, author_playtime_forever=12107, author_playtime_last_two_weeks=0, author_playtime_at_review=12107, author_last_played=1670487891, language='english', review='First crush. Always in my heart.', timestamp_created='1698306096', timestamp_updated='1698306096', votes_up='0', votes_funny='0', weighted_vote_score='0.0', comment_count='0', steam_purchase='0', received_for_free='0', written_during_early_access='0', hidden_in_steam_china='1', steam_china_location=None, cleaned_review='first crush always my heart', label=1.0)]"
      ]
     },
     "execution_count": 28,
     "metadata": {},
     "output_type": "execute_result"
    }
   ],
   "source": [
    "reviews.head(2)"
   ]
  },
  {
   "cell_type": "code",
   "execution_count": 29,
   "id": "7843f7ef-109f-4ccd-bec9-0766af772d32",
   "metadata": {},
   "outputs": [
    {
     "name": "stdout",
     "output_type": "stream",
     "text": [
      "root\n",
      " |-- recommendationid: integer (nullable = true)\n",
      " |-- appid: integer (nullable = true)\n",
      " |-- game: string (nullable = true)\n",
      " |-- author_steamid: long (nullable = true)\n",
      " |-- author_num_games_owned: integer (nullable = true)\n",
      " |-- author_num_reviews: integer (nullable = true)\n",
      " |-- author_playtime_forever: integer (nullable = true)\n",
      " |-- author_playtime_last_two_weeks: integer (nullable = true)\n",
      " |-- author_playtime_at_review: integer (nullable = true)\n",
      " |-- author_last_played: integer (nullable = true)\n",
      " |-- language: string (nullable = true)\n",
      " |-- review: string (nullable = true)\n",
      " |-- timestamp_created: string (nullable = true)\n",
      " |-- timestamp_updated: string (nullable = true)\n",
      " |-- votes_up: string (nullable = true)\n",
      " |-- votes_funny: string (nullable = true)\n",
      " |-- weighted_vote_score: string (nullable = true)\n",
      " |-- comment_count: string (nullable = true)\n",
      " |-- steam_purchase: string (nullable = true)\n",
      " |-- received_for_free: string (nullable = true)\n",
      " |-- written_during_early_access: string (nullable = true)\n",
      " |-- hidden_in_steam_china: string (nullable = true)\n",
      " |-- steam_china_location: string (nullable = true)\n",
      " |-- cleaned_review: string (nullable = true)\n",
      " |-- label: double (nullable = true)\n",
      "\n"
     ]
    }
   ],
   "source": [
    "reviews.printSchema()"
   ]
  },
  {
   "cell_type": "code",
   "execution_count": 11,
   "id": "92492305-4828-4563-911a-12fe733ffab2",
   "metadata": {},
   "outputs": [
    {
     "name": "stderr",
     "output_type": "stream",
     "text": [
      "[Stage 9:======================================================>(193 + 2) / 195]\r"
     ]
    },
    {
     "name": "stdout",
     "output_type": "stream",
     "text": [
      "Count of label = 1: 39668223\n",
      "Count of label = 0: 6330285\n"
     ]
    },
    {
     "name": "stderr",
     "output_type": "stream",
     "text": [
      "                                                                                \r"
     ]
    }
   ],
   "source": [
    "# Count rows where label = 1\n",
    "label_1_count = reviews.filter(col('label') == 1).count()\n",
    "\n",
    "# Count rows where label = 0\n",
    "label_0_count = reviews.filter(col('label') == 0).count()\n",
    "\n",
    "# Print the counts\n",
    "print(f\"Count of label = 1: {label_1_count}\")\n",
    "print(f\"Count of label = 0: {label_0_count}\")"
   ]
  },
  {
   "cell_type": "markdown",
   "id": "8770a332-5f0f-4d68-afa0-8fdebba0574c",
   "metadata": {
    "jp-MarkdownHeadingCollapsed": true
   },
   "source": [
    "### Feature Extraction"
   ]
  },
  {
   "cell_type": "code",
   "execution_count": 2,
   "id": "78130961-b1d3-4d16-9716-ce3ac695b0c6",
   "metadata": {},
   "outputs": [
    {
     "name": "stdout",
     "output_type": "stream",
     "text": [
      "+----------------+-----+--------------+-----------------+----------------------+------------------+-----------------------+------------------------------+-------------------------+------------------+--------+--------------------+-----------------+-----------------+--------+-----------+-------------------+-------------+--------------+-----------------+---------------------------+---------------------+--------------------+--------------------+-----+\n",
      "|recommendationid|appid|          game|   author_steamid|author_num_games_owned|author_num_reviews|author_playtime_forever|author_playtime_last_two_weeks|author_playtime_at_review|author_last_played|language|              review|timestamp_created|timestamp_updated|votes_up|votes_funny|weighted_vote_score|comment_count|steam_purchase|received_for_free|written_during_early_access|hidden_in_steam_china|steam_china_location|      cleaned_review|label|\n",
      "+----------------+-----+--------------+-----------------+----------------------+------------------+-----------------------+------------------------------+-------------------------+------------------+--------+--------------------+-----------------+-----------------+--------+-----------+-------------------+-------------+--------------+-----------------+---------------------------+---------------------+--------------------+--------------------+-----+\n",
      "|       148912575|   10|Counter-Strike|76561198363716821|                     0|                 2|                    197|                            41|                      197|        1698329401| english|        GOAT Game !!|       1698329419|       1698329419|       0|          0|                0.0|            0|             1|                0|                          0|                    1|                null|           goat game|  1.0|\n",
      "|       148895540|   10|Counter-Strike|76561198134752176|                    69|                 1|                  12107|                             0|                    12107|        1670487891| english|First crush. Alwa...|       1698306096|       1698306096|       0|          0|                0.0|            0|             0|                0|                          0|                    1|                null|first crush alway...|  1.0|\n",
      "+----------------+-----+--------------+-----------------+----------------------+------------------+-----------------------+------------------------------+-------------------------+------------------+--------+--------------------+-----------------+-----------------+--------+-----------+-------------------+-------------+--------------+-----------------+---------------------------+---------------------+--------------------+--------------------+-----+\n",
      "only showing top 2 rows\n",
      "\n"
     ]
    }
   ],
   "source": [
    "from pyspark.sql.functions import when, col\n",
    "\n",
    "# Filter reviews to exclude rows where either 'cleaned_review' or 'voted_up' is null or empty\n",
    "reviews = filtered_reviews.filter(\n",
    "    ~(col(\"cleaned_review\").isNull() | (col(\"cleaned_review\") == \"\") |\n",
    "      col(\"voted_up\").isNull() | (col(\"voted_up\") == \"\"))\n",
    ")\n",
    "\n",
    "# Convert 'voted_up' to numeric using 'label'\n",
    "reviews = reviews.withColumn(\n",
    "    'label',\n",
    "    when(col('voted_up') == '1', 1.0).when(col('voted_up') == '0', 0.0)\n",
    ")\n",
    "\n",
    "# Drop the 'voted_up' column\n",
    "reviews = reviews.drop('voted_up')\n",
    "\n",
    "# Show the updated DataFrame\n",
    "reviews.show(2)"
   ]
  },
  {
   "cell_type": "code",
   "execution_count": 3,
   "id": "0050ae8f-e46e-4a9b-b189-1467c059bb03",
   "metadata": {},
   "outputs": [],
   "source": [
    "#spark ML imports\n",
    "from pyspark.ml import Pipeline\n",
    "from pyspark.ml.classification import LogisticRegression\n",
    "from pyspark.ml.feature import HashingTF, Tokenizer, StopWordsRemover, IDF\n",
    "from pyspark.ml.tuning import CrossValidator, ParamGridBuilder\n",
    "from pyspark.ml.evaluation import BinaryClassificationEvaluator, MulticlassClassificationEvaluator"
   ]
  },
  {
   "cell_type": "code",
   "execution_count": 4,
   "id": "cc3dd1d2-a453-4d11-b8c3-8f20294bb237",
   "metadata": {},
   "outputs": [
    {
     "name": "stderr",
     "output_type": "stream",
     "text": [
      "24/11/17 02:40:54 WARN org.apache.spark.sql.catalyst.util.package: Truncated the string representation of a plan since it was too large. This behavior can be adjusted by setting 'spark.sql.debug.maxToStringFields'.\n"
     ]
    },
    {
     "name": "stdout",
     "output_type": "stream",
     "text": [
      "+----------------+-----+--------------+-----------------+----------------------+------------------+-----------------------+------------------------------+-------------------------+------------------+--------+--------------------+-----------------+-----------------+--------+-----------+-------------------+-------------+--------------+-----------------+---------------------------+---------------------+--------------------+--------------------+-----+--------------------+\n",
      "|recommendationid|appid|          game|   author_steamid|author_num_games_owned|author_num_reviews|author_playtime_forever|author_playtime_last_two_weeks|author_playtime_at_review|author_last_played|language|              review|timestamp_created|timestamp_updated|votes_up|votes_funny|weighted_vote_score|comment_count|steam_purchase|received_for_free|written_during_early_access|hidden_in_steam_china|steam_china_location|      cleaned_review|label|               words|\n",
      "+----------------+-----+--------------+-----------------+----------------------+------------------+-----------------------+------------------------------+-------------------------+------------------+--------+--------------------+-----------------+-----------------+--------+-----------+-------------------+-------------+--------------+-----------------+---------------------------+---------------------+--------------------+--------------------+-----+--------------------+\n",
      "|       148912575|   10|Counter-Strike|76561198363716821|                     0|                 2|                    197|                            41|                      197|        1698329401| english|        GOAT Game !!|       1698329419|       1698329419|       0|          0|                0.0|            0|             1|                0|                          0|                    1|                null|           goat game|  1.0|        [goat, game]|\n",
      "|       148895540|   10|Counter-Strike|76561198134752176|                    69|                 1|                  12107|                             0|                    12107|        1670487891| english|First crush. Alwa...|       1698306096|       1698306096|       0|          0|                0.0|            0|             0|                0|                          0|                    1|                null|first crush alway...|  1.0|[first, crush, al...|\n",
      "+----------------+-----+--------------+-----------------+----------------------+------------------+-----------------------+------------------------------+-------------------------+------------------+--------+--------------------+-----------------+-----------------+--------+-----------+-------------------+-------------+--------------+-----------------+---------------------------+---------------------+--------------------+--------------------+-----+--------------------+\n",
      "only showing top 2 rows\n",
      "\n"
     ]
    },
    {
     "name": "stderr",
     "output_type": "stream",
     "text": [
      "                                                                                \r"
     ]
    }
   ],
   "source": [
    "#tokenize words\n",
    "tokenizer = Tokenizer(inputCol=\"cleaned_review\", outputCol=\"words\")\n",
    "reviews = tokenizer.transform(reviews)\n",
    "reviews.show(2)"
   ]
  },
  {
   "cell_type": "code",
   "execution_count": 5,
   "id": "e89bbf72-f245-435e-b0f5-d975b7123d8f",
   "metadata": {},
   "outputs": [
    {
     "name": "stdout",
     "output_type": "stream",
     "text": [
      "+----------------+-----+--------------+-----------------+----------------------+------------------+-----------------------+------------------------------+-------------------------+------------------+--------+--------------------------------+-----------------+-----------------+--------+-----------+-------------------+-------------+--------------+-----------------+---------------------------+---------------------+--------------------+---------------------------+-----+-----------------------------+\n",
      "|recommendationid|appid|game          |author_steamid   |author_num_games_owned|author_num_reviews|author_playtime_forever|author_playtime_last_two_weeks|author_playtime_at_review|author_last_played|language|review                          |timestamp_created|timestamp_updated|votes_up|votes_funny|weighted_vote_score|comment_count|steam_purchase|received_for_free|written_during_early_access|hidden_in_steam_china|steam_china_location|cleaned_review             |label|filtered                     |\n",
      "+----------------+-----+--------------+-----------------+----------------------+------------------+-----------------------+------------------------------+-------------------------+------------------+--------+--------------------------------+-----------------+-----------------+--------+-----------+-------------------+-------------+--------------+-----------------+---------------------------+---------------------+--------------------+---------------------------+-----+-----------------------------+\n",
      "|148912575       |10   |Counter-Strike|76561198363716821|0                     |2                 |197                    |41                            |197                      |1698329401        |english |GOAT Game !!                    |1698329419       |1698329419       |0       |0          |0.0                |0            |1             |0                |0                          |1                    |null                |goat game                  |1.0  |[goat, game]                 |\n",
      "|148895540       |10   |Counter-Strike|76561198134752176|69                    |1                 |12107                  |0                             |12107                    |1670487891        |english |First crush. Always in my heart.|1698306096       |1698306096       |0       |0          |0.0                |0            |0             |0                |0                          |1                    |null                |first crush always my heart|1.0  |[first, crush, always, heart]|\n",
      "+----------------+-----+--------------+-----------------+----------------------+------------------+-----------------------+------------------------------+-------------------------+------------------+--------+--------------------------------+-----------------+-----------------+--------+-----------+-------------------+-------------+--------------+-----------------+---------------------------+---------------------+--------------------+---------------------------+-----+-----------------------------+\n",
      "only showing top 2 rows\n",
      "\n"
     ]
    },
    {
     "name": "stderr",
     "output_type": "stream",
     "text": [
      "                                                                                \r"
     ]
    }
   ],
   "source": [
    "#remove stop words\n",
    "remover = StopWordsRemover(inputCol=\"words\", outputCol=\"filtered\")\n",
    "reviews = remover.transform(reviews)\n",
    "\n",
    "#drop the redundant source column\n",
    "reviews = reviews.drop(\"words\")\n",
    "reviews.show(2,truncate = False)"
   ]
  },
  {
   "cell_type": "code",
   "execution_count": 6,
   "id": "bcc737fe-fa84-4564-8e53-37c376e645a0",
   "metadata": {},
   "outputs": [
    {
     "name": "stderr",
     "output_type": "stream",
     "text": [
      "                                                                                \r"
     ]
    },
    {
     "name": "stdout",
     "output_type": "stream",
     "text": [
      "+-----+----------------------------------------------------------------------------------------------+\n",
      "|label|features                                                                                      |\n",
      "+-----+----------------------------------------------------------------------------------------------+\n",
      "|1.0  |(20,[15,17],[0.4313029839490665,0.9237928288927962])                                          |\n",
      "|1.0  |(20,[2,3,8,11],[1.1493830820009927,0.8487405682175299,0.8561055790511669,1.0905517832019862]) |\n",
      "|1.0  |(20,[3,8,10,14],[1.6974811364350597,0.8561055790511669,0.7989596810049043,1.0251466204901554])|\n",
      "|1.0  |(20,[13,15,18],[1.7110766778744637,0.4313029839490665,1.099606599099233])                     |\n",
      "|1.0  |(20,[3,13],[0.8487405682175299,0.8555383389372319])                                           |\n",
      "+-----+----------------------------------------------------------------------------------------------+\n",
      "only showing top 5 rows\n",
      "\n"
     ]
    }
   ],
   "source": [
    "#Maps a sequence of terms to their term frequencies using the hashing trick. \n",
    "#alternatively, CountVectorizer can also be used to get term frequency vectors\n",
    "hashingTF = HashingTF(inputCol=\"filtered\", outputCol=\"rawFeatures\", numFeatures=20)\n",
    "featurizedData = hashingTF.transform(reviews)\n",
    "\n",
    "idf = IDF(inputCol=\"rawFeatures\", outputCol=\"features\")\n",
    "idfModel = idf.fit(featurizedData)\n",
    "nlpdf = idfModel.transform(featurizedData)\n",
    "nlpdf.select(\"label\", \"features\").show(5, truncate=False)"
   ]
  },
  {
   "cell_type": "code",
   "execution_count": 7,
   "id": "11da7b8b-88b8-4d88-bea5-799060978bac",
   "metadata": {},
   "outputs": [
    {
     "name": "stdout",
     "output_type": "stream",
     "text": [
      "+----------------+-----+--------------+-----------------+----------------------+------------------+-----------------------+------------------------------+-------------------------+------------------+--------+--------------------+-----------------+-----------------+--------+-----------+-------------------+-------------+--------------+-----------------+---------------------------+---------------------+--------------------+--------------------+-----+--------------------+--------------------+--------------------+\n",
      "|recommendationid|appid|          game|   author_steamid|author_num_games_owned|author_num_reviews|author_playtime_forever|author_playtime_last_two_weeks|author_playtime_at_review|author_last_played|language|              review|timestamp_created|timestamp_updated|votes_up|votes_funny|weighted_vote_score|comment_count|steam_purchase|received_for_free|written_during_early_access|hidden_in_steam_china|steam_china_location|      cleaned_review|label|            filtered|         rawFeatures|            features|\n",
      "+----------------+-----+--------------+-----------------+----------------------+------------------+-----------------------+------------------------------+-------------------------+------------------+--------+--------------------+-----------------+-----------------+--------+-----------+-------------------+-------------+--------------+-----------------+---------------------------+---------------------+--------------------+--------------------+-----+--------------------+--------------------+--------------------+\n",
      "|       148912575|   10|Counter-Strike|76561198363716821|                     0|                 2|                    197|                            41|                      197|        1698329401| english|        GOAT Game !!|       1698329419|       1698329419|       0|          0|                0.0|            0|             1|                0|                          0|                    1|                null|           goat game|  1.0|        [goat, game]|(20,[15,17],[1.0,...|(20,[15,17],[0.43...|\n",
      "|       148895540|   10|Counter-Strike|76561198134752176|                    69|                 1|                  12107|                             0|                    12107|        1670487891| english|First crush. Alwa...|       1698306096|       1698306096|       0|          0|                0.0|            0|             0|                0|                          0|                    1|                null|first crush alway...|  1.0|[first, crush, al...|(20,[2,3,8,11],[1...|(20,[2,3,8,11],[1...|\n",
      "+----------------+-----+--------------+-----------------+----------------------+------------------+-----------------------+------------------------------+-------------------------+------------------+--------+--------------------+-----------------+-----------------+--------+-----------+-------------------+-------------+--------------+-----------------+---------------------------+---------------------+--------------------+--------------------+-----+--------------------+--------------------+--------------------+\n",
      "only showing top 2 rows\n",
      "\n"
     ]
    }
   ],
   "source": [
    "nlpdf.show(2)"
   ]
  },
  {
   "cell_type": "code",
   "execution_count": 8,
   "id": "9063f91c-2d52-41cd-8885-1db0d7ce9592",
   "metadata": {},
   "outputs": [
    {
     "name": "stdout",
     "output_type": "stream",
     "text": [
      "+----------------+-----+--------------+-----------------+----------------------+------------------+-----------------------+------------------------------+-------------------------+------------------+--------+--------------------+--------------------+--------------------+-----------------+--------------------+-------------------+-----------------+--------------+--------------------+---------------------------+---------------------+--------------------+--------------------+-----+--------------------+--------------------+--------------------+\n",
      "|recommendationid|appid|          game|   author_steamid|author_num_games_owned|author_num_reviews|author_playtime_forever|author_playtime_last_two_weeks|author_playtime_at_review|author_last_played|language|              review|   timestamp_created|   timestamp_updated|         votes_up|         votes_funny|weighted_vote_score|    comment_count|steam_purchase|   received_for_free|written_during_early_access|hidden_in_steam_china|steam_china_location|      cleaned_review|label|            filtered|         rawFeatures|            features|\n",
      "+----------------+-----+--------------+-----------------+----------------------+------------------+-----------------------+------------------------------+-------------------------+------------------+--------+--------------------+--------------------+--------------------+-----------------+--------------------+-------------------+-----------------+--------------+--------------------+---------------------------+---------------------+--------------------+--------------------+-----+--------------------+--------------------+--------------------+\n",
      "|       148305536|   10|Counter-Strike|76561198423995079|                     0|                 7|                    365|                             0|                      365|        1695919172| english|\"Once upon a time...|wielding all sort...|Counter-Strike ev...|a bit more mature|and much better a...|        new weapons|              and|     of course|endless arguments...|                   teamwork|                  and|                well|once upon time ea...| null|[upon, time, earl...|(20,[0,1,2,3,4,5,...|(20,[0,1,2,3,4,5,...|\n",
      "|       147562967|   10|Counter-Strike|76561199286833126|                     0|                23|                      9|                             0|                        9|        1689842056| english|\"Honestly, a very...|it would be much ...|          1696338721|                0|                   2|                  0|0.480760812759399|             0|                   1|                          0|                    0|                   1|honestly very cla...| null|[honestly, classi...|(20,[0,1,2,3,4,5,...|(20,[0,1,2,3,4,5,...|\n",
      "+----------------+-----+--------------+-----------------+----------------------+------------------+-----------------------+------------------------------+-------------------------+------------------+--------+--------------------+--------------------+--------------------+-----------------+--------------------+-------------------+-----------------+--------------+--------------------+---------------------------+---------------------+--------------------+--------------------+-----+--------------------+--------------------+--------------------+\n",
      "only showing top 2 rows\n",
      "\n"
     ]
    }
   ],
   "source": [
    "null_rows = nlpdf.filter(nlpdf[\"label\"].isNull() | nlpdf[\"features\"].isNull())\n",
    "null_rows.show(2)"
   ]
  },
  {
   "cell_type": "code",
   "execution_count": 9,
   "id": "165c8fac-532a-491b-8a4a-9434b76f3b33",
   "metadata": {},
   "outputs": [],
   "source": [
    "nlpdf = nlpdf.dropna(subset=[\"label\", \"features\"])"
   ]
  },
  {
   "cell_type": "code",
   "execution_count": 11,
   "id": "e8739038-907d-421a-bc7e-5b15a745d86a",
   "metadata": {},
   "outputs": [
    {
     "name": "stderr",
     "output_type": "stream",
     "text": [
      "[Stage 10:>                                                         (0 + 1) / 1]\r"
     ]
    },
    {
     "name": "stdout",
     "output_type": "stream",
     "text": [
      "+----------------+-----+--------------+-----------------+----------------------+------------------+-----------------------+------------------------------+-------------------------+------------------+--------+--------------------+-----------------+-----------------+--------+-----------+-------------------+-------------+--------------+-----------------+---------------------------+---------------------+--------------------+--------------------+-----+--------------------+--------------------+--------------------+\n",
      "|recommendationid|appid|          game|   author_steamid|author_num_games_owned|author_num_reviews|author_playtime_forever|author_playtime_last_two_weeks|author_playtime_at_review|author_last_played|language|              review|timestamp_created|timestamp_updated|votes_up|votes_funny|weighted_vote_score|comment_count|steam_purchase|received_for_free|written_during_early_access|hidden_in_steam_china|steam_china_location|      cleaned_review|label|            filtered|         rawFeatures|            features|\n",
      "+----------------+-----+--------------+-----------------+----------------------+------------------+-----------------------+------------------------------+-------------------------+------------------+--------+--------------------+-----------------+-----------------+--------+-----------+-------------------+-------------+--------------+-----------------+---------------------------+---------------------+--------------------+--------------------+-----+--------------------+--------------------+--------------------+\n",
      "|             124|   10|Counter-Strike|76561197960266692|                   156|                 2|                   1801|                             0|                     1533|        1412177009| english|Probably the best...|       1309566188|       1309566188|       0|          0|                0.0|            0|             1|                0|                          0|                    0|                null|probably best gam...|  1.0|[probably, best, ...|(20,[3,11,12,14,1...|(20,[3,11,12,14,1...|\n",
      "+----------------+-----+--------------+-----------------+----------------------+------------------+-----------------------+------------------------------+-------------------------+------------------+--------+--------------------+-----------------+-----------------+--------+-----------+-------------------+-------------+--------------+-----------------+---------------------------+---------------------+--------------------+--------------------+-----+--------------------+--------------------+--------------------+\n",
      "only showing top 1 row\n",
      "\n"
     ]
    },
    {
     "name": "stderr",
     "output_type": "stream",
     "text": [
      "                                                                                \r"
     ]
    }
   ],
   "source": [
    "#split data into train and test\n",
    "train_df, test_df = nlpdf.randomSplit([0.8, 0.2], seed=42)\n",
    "\n",
    "train_df.show(1)"
   ]
  },
  {
   "cell_type": "markdown",
   "id": "1f7e042d-fe40-4e4c-bd77-ce7bed3dc4ac",
   "metadata": {
    "jp-MarkdownHeadingCollapsed": true
   },
   "source": [
    "### Logistic Regression Model"
   ]
  },
  {
   "cell_type": "code",
   "execution_count": 12,
   "id": "9ded43c1-b0e1-454b-a62a-9e87fd13861f",
   "metadata": {},
   "outputs": [
    {
     "name": "stderr",
     "output_type": "stream",
     "text": [
      "24/11/17 03:05:19 WARN com.github.fommil.netlib.BLAS: Failed to load implementation from: com.github.fommil.netlib.NativeSystemBLAS\n",
      "24/11/17 03:05:19 WARN com.github.fommil.netlib.BLAS: Failed to load implementation from: com.github.fommil.netlib.NativeRefBLAS\n",
      "                                                                                \r"
     ]
    }
   ],
   "source": [
    "from pyspark.ml.classification import LogisticRegression\n",
    "\n",
    "# Set parameters for Logistic Regression\n",
    "lgr = LogisticRegression(maxIter=10, featuresCol = 'features', labelCol='label')\n",
    "\n",
    "# Fit the model to the data.\n",
    "lgrm = lgr.fit(train_df)"
   ]
  },
  {
   "cell_type": "code",
   "execution_count": 14,
   "id": "870e5b68-c9e6-4d34-b642-1e263a81dd56",
   "metadata": {},
   "outputs": [],
   "source": [
    "# Given a dataset, predict each point's label, and show the results.\n",
    "predictions = lgrm.transform(test_df)"
   ]
  },
  {
   "cell_type": "code",
   "execution_count": null,
   "id": "5afa6db9-27a0-43f2-b61f-570716cb6260",
   "metadata": {},
   "outputs": [
    {
     "name": "stderr",
     "output_type": "stream",
     "text": [
      "                                                                                \r"
     ]
    },
    {
     "name": "stdout",
     "output_type": "stream",
     "text": [
      "0.8608528658057427\n"
     ]
    },
    {
     "name": "stderr",
     "output_type": "stream",
     "text": [
      "[Stage 41:=====================================================>(194 + 1) / 195]\r"
     ]
    },
    {
     "name": "stdout",
     "output_type": "stream",
     "text": [
      "0.8004072202077143\n"
     ]
    },
    {
     "name": "stderr",
     "output_type": "stream",
     "text": [
      "                                                                                \r"
     ]
    }
   ],
   "source": [
    "#print evaluation metrics\n",
    "evaluator = MulticlassClassificationEvaluator(labelCol=\"label\", predictionCol=\"prediction\")\n",
    "\n",
    "print(evaluator.evaluate(predictions, {evaluator.metricName: \"accuracy\"}))\n",
    "print(evaluator.evaluate(predictions, {evaluator.metricName: \"f1\"}))"
   ]
  },
  {
   "cell_type": "code",
   "execution_count": 17,
   "id": "3eb0a636-f402-4017-b202-d9b3cfe4edcf",
   "metadata": {},
   "outputs": [
    {
     "name": "stderr",
     "output_type": "stream",
     "text": [
      "                                                                                \r"
     ]
    },
    {
     "data": {
      "text/plain": [
       "[Row(recommendationid=1139, appid=10, game='Counter-Strike', author_steamid=76561197960270784, author_num_games_owned=219, author_num_reviews=8, author_playtime_forever=4056, author_playtime_last_two_weeks=0, author_playtime_at_review=111, author_last_played=1683984633, language='english', review=\"Get out of there it's gonna blow!!!\", timestamp_created='1310238451', timestamp_updated='1669170352', votes_up='0', votes_funny='0', weighted_vote_score='0.0', comment_count='0', steam_purchase='0', received_for_free='0', written_during_early_access='0', hidden_in_steam_china='0', steam_china_location=None, cleaned_review='get out there its gonna blow', label=1.0, filtered=['get', 'gonna', 'blow'], rawFeatures=SparseVector(20, {6: 1.0, 8: 1.0, 17: 1.0}), features=SparseVector(20, {6: 0.9777, 8: 0.8561, 17: 0.9238}), rawPrediction=DenseVector([-1.9054, 1.9054]), probability=DenseVector([0.1295, 0.8705]), prediction=1.0),\n",
       " Row(recommendationid=3362, appid=10, game='Counter-Strike', author_steamid=76561197960279306, author_num_games_owned=73, author_num_reviews=2, author_playtime_forever=919, author_playtime_last_two_weeks=0, author_playtime_at_review=919, author_last_played=86400, language='english', review='Best game ever', timestamp_created='1351792234', timestamp_updated='1351792234', votes_up='0', votes_funny='0', weighted_vote_score='0.0', comment_count='0', steam_purchase='0', received_for_free='0', written_during_early_access='0', hidden_in_steam_china='0', steam_china_location=None, cleaned_review='best game ever', label=1.0, filtered=['best', 'game', 'ever'], rawFeatures=SparseVector(20, {3: 1.0, 14: 1.0, 15: 1.0}), features=SparseVector(20, {3: 0.8487, 14: 1.0251, 15: 0.4313}), rawPrediction=DenseVector([-1.9598, 1.9598]), probability=DenseVector([0.1235, 0.8765]), prediction=1.0)]"
      ]
     },
     "execution_count": 17,
     "metadata": {},
     "output_type": "execute_result"
    }
   ],
   "source": [
    "predictions.head(2)"
   ]
  },
  {
   "cell_type": "markdown",
   "id": "b2736fce-ae46-4ede-ab74-339a9afb1621",
   "metadata": {
    "jp-MarkdownHeadingCollapsed": true
   },
   "source": [
    "### Generate Sentiment Scores"
   ]
  },
  {
   "cell_type": "code",
   "execution_count": 19,
   "id": "09df1004-b226-4e37-8aed-0de5d7825201",
   "metadata": {},
   "outputs": [],
   "source": [
    "from pyspark.sql.functions import col\n",
    "\n",
    "# Combine train and test data\n",
    "all_data = train_df.union(test_df)"
   ]
  },
  {
   "cell_type": "code",
   "execution_count": null,
   "id": "80b93cc2-f880-4395-a2ce-3c9aac14d17d",
   "metadata": {},
   "outputs": [
    {
     "name": "stderr",
     "output_type": "stream",
     "text": [
      "[Stage 48:>                                                         (0 + 1) / 1]\r"
     ]
    },
    {
     "name": "stdout",
     "output_type": "stream",
     "text": [
      "+-----+-----------------+----------------+--------------+----------------------+------------------+-----------------------+------------------------------+-------------------------+------------------+--------+-----------------------------------------------------------------------------------------------------------------------------------------------+-----------------+-----------------+--------+-----------+-------------------+-------------+--------------+-----------------+---------------------------+---------------------+--------------------+------------------------------------------------------------------------------------------------------------------------------+-----+--------------------------------------------------------------------------------------------------------------------+------------------+\n",
      "|appid|author_steamid   |recommendationid|game          |author_num_games_owned|author_num_reviews|author_playtime_forever|author_playtime_last_two_weeks|author_playtime_at_review|author_last_played|language|review                                                                                                                                         |timestamp_created|timestamp_updated|votes_up|votes_funny|weighted_vote_score|comment_count|steam_purchase|received_for_free|written_during_early_access|hidden_in_steam_china|steam_china_location|cleaned_review                                                                                                                |label|filtered                                                                                                            |sentiment_score   |\n",
      "+-----+-----------------+----------------+--------------+----------------------+------------------+-----------------------+------------------------------+-------------------------+------------------+--------+-----------------------------------------------------------------------------------------------------------------------------------------------+-----------------+-----------------+--------+-----------+-------------------+-------------+--------------+-----------------+---------------------------+---------------------+--------------------+------------------------------------------------------------------------------------------------------------------------------+-----+--------------------------------------------------------------------------------------------------------------------+------------------+\n",
      "|10   |76561197960270613|23955932        |Counter-Strike|0                     |263               |4917                   |0                             |4841                     |1695867513        |english |I have really tried to like CS:GO but its just not for me I feel this and CS:Source are A+ games                                               |1467296140       |1504271092       |0       |0          |0.0                |0            |0             |0                |0                          |0                    |null                |i have really tried like csgo but its just me i feel cssource games                                                           |1.0  |[really, tried, like, csgo, feel, cssource, games]                                                                  |0.8847313172665581|\n",
      "|10   |76561197960281796|49490696        |Counter-Strike|30                    |1                 |559666                 |8                             |47391                    |1697925589        |english |10/10 ign                                                                                                                                      |1552254525       |1552254525       |2       |0          |0.541984736919403  |0            |0             |0                |0                          |0                    |null                |ign                                                                                                                           |1.0  |[ign]                                                                                                               |0.8731704227545498|\n",
      "|10   |76561197960338869|141076258       |Counter-Strike|34                    |5                 |483440                 |0                             |483439                   |1688240700        |english |Counter strike best childhood game. First game that i ever played and that got me into gaming. Thank you counter strike you will be remembered!|1688240660       |1688240660       |0       |0          |0.0                |0            |0             |0                |0                          |1                    |null                |counter strike best childhood game first game i ever played got me into gaming thank you counter strike you will be remembered|1.0  |[counter, strike, best, childhood, game, first, game, ever, played, got, gaming, thank, counter, strike, remembered]|0.9042052339242086|\n",
      "|10   |76561197960390824|16506816        |Counter-Strike|621                   |10                |36                     |0                             |36                       |1186038000        |english |cool game bra                                                                                                                                  |1434657486       |1434657486       |2       |22         |0.503787875175476  |0            |0             |0                |0                          |0                    |null                |cool game bra                                                                                                                 |1.0  |[cool, game, bra]                                                                                                   |0.8807123180475541|\n",
      "|10   |76561197960467740|61930178        |Counter-Strike|0                     |4                 |438337                 |0                             |379523                   |1692480128        |english |The original - Probably the most popular online FPS of all time.                                                                               |1579178034       |1579178034       |1       |0          |0.523809552192688  |0            |0             |0                |0                          |0                    |null                |original probably most popular online fps all time                                                                            |1.0  |[original, probably, popular, online, fps, time]                                                                    |0.8555295814817651|\n",
      "|10   |76561197960502226|69600571        |Counter-Strike|22                    |1                 |30331                  |0                             |29510                    |1683489011        |english |Just a little bit much of cheaters                                                                                                             |1590149580       |1590149580       |0       |0          |0.0                |0            |0             |0                |0                          |0                    |null                |just little bit much cheaters                                                                                                 |1.0  |[little, bit, much, cheaters]                                                                                       |0.8737499209301924|\n",
      "|10   |76561197960544787|80004454        |Counter-Strike|392                   |11                |68825                  |0                             |68825                    |1531862635        |english |I never reviewed this?                                                                                                                         |1606343903       |1606343903       |0       |0          |0.0                |0            |1             |0                |0                          |0                    |null                |i never reviewed                                                                                                              |1.0  |[never, reviewed]                                                                                                   |0.866265366391876 |\n",
      "|10   |76561197961150212|31965713        |Counter-Strike|0                     |1                 |132359                 |0                             |132359                   |1376639281        |english |A CLASSIC GAME IN A CLASSIC WAY. With starcraft and warcraft this is one of those games that started it all!                                   |1495776219       |1495776219       |0       |0          |0.0                |0            |0             |0                |0                          |0                    |null                |classic game classic way starcraft warcraft one those games started all                                                       |1.0  |[classic, game, classic, way, starcraft, warcraft, one, games, started]                                             |0.8593730529478136|\n",
      "|10   |76561197961152593|112895201       |Counter-Strike|0                     |6                 |1495                   |0                             |1478                     |1690595382        |english |playing for 26  years still fun                                                                                                                |1648355855       |1648355855       |0       |0          |0.0                |0            |0             |0                |0                          |0                    |null                |playing years still fun                                                                                                       |1.0  |[playing, years, still, fun]                                                                                        |0.8742503363379408|\n",
      "|10   |76561197961154798|30098572        |Counter-Strike|324                   |10                |1473258                |0                             |50724                    |1652350037        |english |Fire in the Hole Simulator 2000                                                                                                                |1487767932       |1487767932       |30      |25         |0.635522723197937  |0            |1             |0                |0                          |0                    |null                |fire hole simulator                                                                                                           |1.0  |[fire, hole, simulator]                                                                                             |0.8730743843530598|\n",
      "+-----+-----------------+----------------+--------------+----------------------+------------------+-----------------------+------------------------------+-------------------------+------------------+--------+-----------------------------------------------------------------------------------------------------------------------------------------------+-----------------+-----------------+--------+-----------+-------------------+-------------+--------------+-----------------+---------------------------+---------------------+--------------------+------------------------------------------------------------------------------------------------------------------------------+-----+--------------------------------------------------------------------------------------------------------------------+------------------+\n",
      "only showing top 10 rows\n",
      "\n"
     ]
    },
    {
     "name": "stderr",
     "output_type": "stream",
     "text": [
      "                                                                                \r"
     ]
    }
   ],
   "source": [
    "from pyspark.sql.functions import col, udf\n",
    "from pyspark.sql.types import DoubleType\n",
    "\n",
    "# Define a UDF to extract the probability for label=1\n",
    "extract_probability_udf = udf(lambda probability: float(probability.values[1]), DoubleType())\n",
    "\n",
    "# Add sentiment scores\n",
    "predictions_with_scores_all = predictions_all.withColumn(\"sentiment_score\", extract_probability_udf(col(\"probability\")))\n",
    "\n",
    "# Select relevant columns (appid, author_steamid, sentiment_score)\n",
    "scores_to_add = predictions_with_scores_all.select(\"appid\", \"author_steamid\", \"sentiment_score\")\n",
    "\n",
    "# Join the sentiment scores back to the original reviews DataFrame\n",
    "reviews_w_scores = reviews.join(scores_to_add, on=[\"appid\", \"author_steamid\"], how=\"left\")\n",
    "\n",
    "# Display the updated DataFrame with sentiment scores\n",
    "reviews_w_scores.show(10, truncate=False)"
   ]
  },
  {
   "cell_type": "code",
   "execution_count": 24,
   "id": "7c6dfdd0-780f-48b9-bead-c59be2b3a274",
   "metadata": {},
   "outputs": [],
   "source": [
    "from pyspark.sql.functions import col\n",
    "\n",
    "# Drop rows with any null values in the \"sentiment_score\" column\n",
    "filtered_reviews_w_scores = reviews_w_scores.filter(col(\"sentiment_score\").isNotNull())\n",
    "\n",
    "# Drop the 'filtered' column if it exists\n",
    "final_reviews_w_scores = filtered_reviews_w_scores.drop(\"filtered\")"
   ]
  },
  {
   "cell_type": "code",
   "execution_count": null,
   "id": "465ae9e6-ab6e-41df-9a0c-43e0e5f49c37",
   "metadata": {},
   "outputs": [
    {
     "name": "stderr",
     "output_type": "stream",
     "text": [
      "                                                                                \r"
     ]
    },
    {
     "name": "stdout",
     "output_type": "stream",
     "text": [
      "Export successful!\n"
     ]
    }
   ],
   "source": [
    "# Save the filtered and cleaned DataFrame to GCS as a single CSV file\n",
    "#final_reviews_w_scores.coalesce(1).write.csv(\n",
    "#    \"gs://msca-bdp-student-gcs/Group5/reviews_w_scores\",\n",
    "#    header=True,\n",
    "#    mode=\"overwrite\"\n",
    "#)\n",
    "#\n",
    "#print(\"Export successful!\")"
   ]
  },
  {
   "cell_type": "markdown",
   "id": "0030fa91-ea37-4811-ac18-09c420bf5175",
   "metadata": {
    "jp-MarkdownHeadingCollapsed": true
   },
   "source": [
    "## Recommendation System - Collaborate Filtering Model"
   ]
  },
  {
   "cell_type": "markdown",
   "id": "ada3e098-ef8e-4c72-871a-642870076713",
   "metadata": {
    "jp-MarkdownHeadingCollapsed": true
   },
   "source": [
    "### Data Processing"
   ]
  },
  {
   "cell_type": "code",
   "execution_count": 3,
   "id": "9783085f-99c5-4c8e-8e08-dc88e23cc2b7",
   "metadata": {},
   "outputs": [
    {
     "name": "stderr",
     "output_type": "stream",
     "text": [
      "                                                                                \r"
     ]
    }
   ],
   "source": [
    "from pyspark.sql import SparkSession\n",
    "\n",
    "# Initialize Spark session\n",
    "spark = SparkSession.builder.appName(\"GameRemmendation\").getOrCreate()\n",
    "\n",
    "# Load CSV files into DataFrames\n",
    "reviews_w_score = spark.read.csv(\"gs://msca-bdp-student-gcs/Group5/reviews_w_scores/part-00000-c23f0257-0f2c-49b8-abe8-30ebfebd681c-c000.csv\", header=True, inferSchema=True)"
   ]
  },
  {
   "cell_type": "code",
   "execution_count": 4,
   "id": "99afc201-2f35-47dd-a7da-801abefe2602",
   "metadata": {},
   "outputs": [
    {
     "data": {
      "text/plain": [
       "[Row(appid=10, author_steamid=76561197960270613, recommendationid=23955932, game='Counter-Strike', author_num_games_owned=0, author_num_reviews=263, author_playtime_forever=4917, author_playtime_last_two_weeks=0, author_playtime_at_review=4841, author_last_played=1695867513, language='english', review='I have really tried to like CS:GO but its just not for me I feel this and CS:Source are A+ games', timestamp_created='1467296140', timestamp_updated='1504271092', votes_up='0', votes_funny='0', weighted_vote_score='0.0', comment_count='0', steam_purchase='0', received_for_free='0', written_during_early_access='0', hidden_in_steam_china='0', steam_china_location=None, cleaned_review='i have really tried like csgo but its just me i feel cssource games', label=1.0, sentiment_score=0.8847313172665581),\n",
       " Row(appid=10, author_steamid=76561197960281796, recommendationid=49490696, game='Counter-Strike', author_num_games_owned=30, author_num_reviews=1, author_playtime_forever=559666, author_playtime_last_two_weeks=8, author_playtime_at_review=47391, author_last_played=1697925589, language='english', review='10/10 ign', timestamp_created='1552254525', timestamp_updated='1552254525', votes_up='2', votes_funny='0', weighted_vote_score='0.541984736919403', comment_count='0', steam_purchase='0', received_for_free='0', written_during_early_access='0', hidden_in_steam_china='0', steam_china_location=None, cleaned_review='ign', label=1.0, sentiment_score=0.8731704227545498)]"
      ]
     },
     "execution_count": 4,
     "metadata": {},
     "output_type": "execute_result"
    }
   ],
   "source": [
    "reviews_w_score.head(2)"
   ]
  },
  {
   "cell_type": "code",
   "execution_count": 5,
   "id": "d320187d-5030-4b7c-b008-0f3260d71ab4",
   "metadata": {},
   "outputs": [
    {
     "name": "stdout",
     "output_type": "stream",
     "text": [
      "root\n",
      " |-- appid: integer (nullable = true)\n",
      " |-- author_steamid: long (nullable = true)\n",
      " |-- recommendationid: integer (nullable = true)\n",
      " |-- game: string (nullable = true)\n",
      " |-- author_num_games_owned: integer (nullable = true)\n",
      " |-- author_num_reviews: integer (nullable = true)\n",
      " |-- author_playtime_forever: integer (nullable = true)\n",
      " |-- author_playtime_last_two_weeks: integer (nullable = true)\n",
      " |-- author_playtime_at_review: integer (nullable = true)\n",
      " |-- author_last_played: integer (nullable = true)\n",
      " |-- language: string (nullable = true)\n",
      " |-- review: string (nullable = true)\n",
      " |-- timestamp_created: string (nullable = true)\n",
      " |-- timestamp_updated: string (nullable = true)\n",
      " |-- votes_up: string (nullable = true)\n",
      " |-- votes_funny: string (nullable = true)\n",
      " |-- weighted_vote_score: string (nullable = true)\n",
      " |-- comment_count: string (nullable = true)\n",
      " |-- steam_purchase: string (nullable = true)\n",
      " |-- received_for_free: string (nullable = true)\n",
      " |-- written_during_early_access: string (nullable = true)\n",
      " |-- hidden_in_steam_china: string (nullable = true)\n",
      " |-- steam_china_location: string (nullable = true)\n",
      " |-- cleaned_review: string (nullable = true)\n",
      " |-- label: double (nullable = true)\n",
      " |-- sentiment_score: double (nullable = true)\n",
      "\n"
     ]
    }
   ],
   "source": [
    "reviews_w_score.printSchema() "
   ]
  },
  {
   "cell_type": "code",
   "execution_count": 9,
   "id": "c92a4e71-0d65-4521-a1d1-bfac09a9bd05",
   "metadata": {},
   "outputs": [
    {
     "name": "stderr",
     "output_type": "stream",
     "text": [
      "                                                                                \r"
     ]
    },
    {
     "data": {
      "text/plain": [
       "[Row(appid=10, name='Counter-Strike', developer='Valve', publisher='Valve', positive=235682, negative=6218, owners='10,000,000 .. 20,000,000', average_forever=8920, average_2weeks=7, median_forever=174, median_2weeks=10, price=999, initialprice=999, discount=0, ccu=14002, Afrikaans=0, Arabic=0, Armenian=0, Basque=0, Belarusian=0, Bulgarian=0, Catalan=0, Croatian=0, Czech=0, Danish=0, Dutch=0, English=1, Estonian=0, Filipino=0, Finnish=0, French=1, Galician=0, Georgian=0, German=1, Greek=0, Hebrew=0, Hindi=0, Hungarian=0, Icelandic=0, Indonesian=0, Irish=0, Italian=1, Japanese=0, Kannada=0, Kazakh=0, Korean=1, Latvian=0, Lithuanian=0, Malay=0, Maori=0, Mongolian=0, Norwegian=0, Not supported=0, Persian=0, Polish=0, Portuguese=0, Portuguese - Brazil=0, Portuguese - Portugal=0, Romanian=0, Russian=0, Serbian=0, Simplified Chinese=1, Slovak=0, Slovenian=0, Spanish=0, Spanish - Latin America=0, Spanish - Spain=1, Swedish=0, Tamil=0, Telugu=0, Thai=0, Traditional Chinese=1, Turkish=0, Ukrainian=0, Vietnamese=0, genre_Action=1, genre_Action Games=0, genre_Adventure=0, genre_Animation & Modeling=0, genre_Audio Production=0, genre_Casual=0, genre_Design & Illustration=0, genre_Early Access=0, genre_Education=0, genre_Free To Play84=0, genre_Free to Play85=0, genre_Game Development=0, genre_Indie=0, genre_Massively Multiplayer=0, genre_Photo Editing=0, genre_RPG=0, genre_Racing=0, genre_Simulation=0, genre_Software Training=0, genre_Sports=0, genre_Strategy=0, genre_Utilities=0, genre_Video Production=0, genre_Web Publishing=0, tag_1980s=278, tag_1990's=1234, tag_2.5D=0, tag_2D=0, tag_2D Fighter=0, tag_2D Platformer=0, tag_360 Video=0, tag_3D=0, tag_3D Fighter=0, tag_3D Platformer=0, tag_3D Vision=0, tag_4 Player Local=0, tag_4X=0, tag_6DOF=0, tag_ATV=0, tag_Abstract=0, tag_Action=5480, tag_Action RPG=0, tag_Action RTS=0, tag_Action Roguelike=0, tag_Action-Adventure=0, tag_Addictive=0, tag_Adventure=0, tag_Agriculture=0, tag_Aliens=0, tag_Alternate History=0, tag_Ambient=0, tag_America=0, tag_Animation & Modeling=0, tag_Anime=0, tag_Arcade=0, tag_Archery=0, tag_Arena Shooter=0, tag_Artificial Intelligence=0, tag_Assassin=237, tag_Asymmetric VR=0, tag_Asynchronous Multiplayer=0, tag_Atmospheric=0, tag_Audio Production=0, tag_Auto Battler=0, tag_Automation=0, tag_Automobile Sim=0, tag_Base-Building=0, tag_Based On A Novel=0, tag_Basketball=0, tag_Battle Royale=0, tag_Beat 'em up=0, tag_Beautiful=0, tag_Benchmark=0, tag_Bikes=0, tag_Blood=0, tag_Board Game=0, tag_Boomer Shooter=0, tag_Boss Rush=0, tag_Boxing=0, tag_Building=0, tag_Bullet Hell=0, tag_Bullet Time=0, tag_CRPG=0, tag_Capitalism=0, tag_Card Battler=0, tag_Card Game=0, tag_Cartoon=0, tag_Cartoony=0, tag_Casual=0, tag_Cats=0, tag_Character Action Game=0, tag_Character Customization=0, tag_Chess=0, tag_Choices Matter=0, tag_Choose Your Own Adventure=0, tag_Cinematic=0, tag_City Builder=0, tag_Class-Based=0, tag_Classic=2830, tag_Clicker=0, tag_Co-op=0, tag_Co-op Campaign=0, tag_Coding=0, tag_Cold War=0, tag_Collectathon=0, tag_Colony Sim=0, tag_Colorful=0, tag_Combat=0, tag_Combat Racing=0, tag_Comedy=0, tag_Comic Book=0, tag_Competitive=1639, tag_Conspiracy=0, tag_Controller=0, tag_Conversation=0, tag_Cooking=0, tag_Cozy=0, tag_Crafting=0, tag_Creature Collector=0, tag_Cricket=0, tag_Crime=0, tag_Crowdfunded=0, tag_Cult Classic=0, tag_Cute=0, tag_Cyberpunk=0, tag_Cycling=0, tag_Dark=0, tag_Dark Comedy=0, tag_Dark Fantasy=0, tag_Dark Humor=0, tag_Dating Sim=0, tag_Deckbuilding=0, tag_Demons=0, tag_Design & Illustration=0, tag_Destruction=0, tag_Detective=0, tag_Dice=0, tag_Difficult=0, tag_Dinosaurs=0, tag_Diplomacy=0, tag_Documentary=0, tag_Dog=0, tag_Dragons=0, tag_Drama=0, tag_Driving=0, tag_Dungeon Crawler=0, tag_Dungeons & Dragons=0, tag_Dwarf=0, tag_Dynamic Narration=0, tag_Dystopian=0, tag_Early Access=0, tag_Economy=0, tag_Education=0, tag_Electronic=0, tag_Electronic Music=0, tag_Elf=0, tag_Emotional=0, tag_Epic=0, tag_Episodic=0, tag_Escape Room=0, tag_Experience=0, tag_Experimental=0, tag_Exploration=0, tag_FMV=0, tag_FPS=4907, tag_Faith=0, tag_Family Friendly=0, tag_Fantasy=0, tag_Farming=0, tag_Farming Sim=0, tag_Fast-Paced=0, tag_Feature Film=0, tag_Female Protagonist=0, tag_Fighting=0, tag_First-Person=1746, tag_Fishing=0, tag_Flight=0, tag_Football=0, tag_Football (American)=0, tag_Football (Soccer)=0, tag_Foreign=0, tag_Fox=0, tag_Free to Play=0, tag_Funny=0, tag_Futuristic=0, tag_Gambling=0, tag_Game Development=0, tag_GameMaker=0, tag_Games Workshop=0, tag_Gaming=0, tag_God Game=0, tag_Golf=0, tag_Gore=0, tag_Gothic=0, tag_Grand Strategy=0, tag_Great Soundtrack=0, tag_Grid-Based Movement=0, tag_Gun Customization=0, tag_Hack and Slash=0, tag_Hacking=0, tag_Hand-drawn=0, tag_Hardware=0, tag_Heist=0, tag_Hentai=0, tag_Hero Shooter=0, tag_Hex Grid=0, tag_Hidden Object=0, tag_Historical=0, tag_Hobby Sim=0, tag_Hockey=0, tag_Horror=0, tag_Horses=0, tag_Hunting=0, tag_Idler=0, tag_Illuminati=0, tag_Immersive=0, tag_Immersive Sim=0, tag_Indie=0, tag_Instrumental Music=0, tag_Intentionally Awkward Controls=0, tag_Interactive Fiction=0, tag_Inventory Management=0, tag_Investigation=0, tag_Isometric=0, tag_JRPG=0, tag_Jet=0, tag_Job Simulator=0, tag_Kickstarter=0, tag_LEGO=0, tag_LGBTQ+=0, tag_Level Editor=0, tag_Life Sim=0, tag_Linear=0, tag_Local Co-Op=0, tag_Local Multiplayer=0, tag_Logic=0, tag_Loot=0, tag_Looter Shooter=0, tag_Lore-Rich=0, tag_Lovecraftian=0, tag_MMORPG=0, tag_MOBA=0, tag_Magic=0, tag_Mahjong=0, tag_Management=0, tag_Mars=0, tag_Martial Arts=0, tag_Massively Multiplayer=0, tag_Masterpiece=0, tag_Match 3=0, tag_Mature=0, tag_Mechs=0, tag_Medical Sim=0, tag_Medieval=0, tag_Memes=0, tag_Metroidvania=0, tag_Military=656, tag_Mini Golf=0, tag_Minigames=0, tag_Minimalist=0, tag_Mining=0, tag_Mod=0, tag_Moddable=0, tag_Modern=0, tag_Motocross=0, tag_Motorbike=0, tag_Mouse only=0, tag_Movie=0, tag_Multiplayer=3454, tag_Multiple Endings=0, tag_Music=0, tag_Music-Based Procedural Generation=0, tag_Musou=0, tag_Mystery=0, tag_Mystery Dungeon=0, tag_Mythology=0, tag_NSFW=0, tag_Narration=0, tag_Narrative=0, tag_Nature=0, tag_Naval=0, tag_Naval Combat=0, tag_Ninja=0, tag_Noir=0, tag_Nonlinear=0, tag_Nostalgia=185, tag_Nudity=0, tag_Offroad=0, tag_Old School=812, tag_On-Rails Shooter=0, tag_Online Co-Op=0, tag_Open World=0, tag_Open World Survival Craft=0, tag_Otome=0, tag_Outbreak Sim=0, tag_Parkour=0, tag_Parody=0, tag_Party=0, tag_Party Game=0, tag_Party-Based RPG=0, tag_Perma Death=0, tag_Philosophical=0, tag_Photo Editing=0, tag_Physics=0, tag_Pinball=0, tag_Pirates=0, tag_Pixel Graphics=0, tag_Platformer=0, tag_Point & Click=0, tag_Political=0, tag_Political Sim=0, tag_Politics=0, tag_Pool=0, tag_Post-apocalyptic=0, tag_Precision Platformer=0, tag_Procedural Generation=0, tag_Programming=0, tag_Psychedelic=0, tag_Psychological=0, tag_Psychological Horror=0, tag_Puzzle=0, tag_Puzzle-Platformer=0, tag_PvE=0, tag_PvP=914, tag_Quick-Time Events=0, tag_RPG=0, tag_RPGMaker=0, tag_RTS=0, tag_Racing=0, tag_Real Time Tactics=0, tag_Real-Time=0, tag_Real-Time with Pause=0, tag_Realistic=0, tag_Reboot=0, tag_Relaxing=0, tag_Remake=0, tag_Replay Value=0, tag_Resource Management=0, tag_Retro=0, tag_Rhythm=0, tag_Robots=0, tag_Rock Music=0, tag_Rogue-like=0, tag_Rogue-lite=0, tag_Roguelike Deckbuilder=0, tag_Roguevania=0, tag_Romance=0, tag_Rome=0, tag_Rugby=0, tag_Runner=0, tag_Sailing=0, tag_Sandbox=0, tag_Satire=0, tag_Sci-fi=0, tag_Science=0, tag_Score Attack=296, tag_Sequel=0, tag_Sexual Content=0, tag_Shoot 'Em Up=0, tag_Shooter=3407, tag_Shop Keeper=0, tag_Short=0, tag_Side Scroller=0, tag_Silent Protagonist=0, tag_Simulation=0, tag_Singleplayer=0, tag_Skateboarding=0, tag_Skating=0, tag_Skiing=0, tag_Sniper=0, tag_Snow=0, tag_Snowboarding=0, tag_Soccer=0, tag_Social Deduction=0, tag_Software=0, tag_Software Training=0, tag_Sokoban=0, tag_Solitaire=0, tag_Souls-like=0, tag_Soundtrack=0, tag_Space=0, tag_Space Sim=0, tag_Spaceships=0, tag_Spectacle fighter=0, tag_Spelling=0, tag_Split Screen=0, tag_Sports=0, tag_Stealth=0, tag_Steampunk=0, tag_Story Rich=0, tag_Strategy=629, tag_Strategy RPG=0, tag_Stylized=0, tag_Submarine=0, tag_Superhero=0, tag_Supernatural=0, tag_Surreal=0, tag_Survival=314, tag_Survival Horror=0, tag_Swordplay=0, tag_Tabletop=0, tag_Tactical=1378, tag_Tactical RPG=0, tag_Tanks=0, tag_Team-Based=1904, tag_Tennis=0, tag_Text-Based=0, tag_Third Person=0, tag_Third-Person Shooter=0, tag_Thriller=0, tag_Tile-Matching=0, tag_Time Attack=0, tag_Time Management=0, tag_Time Manipulation=0, tag_Time Travel=0, tag_Top-Down=0, tag_Top-Down Shooter=0, tag_Touch-Friendly=0, tag_Tower Defense=0, tag_TrackIR=0, tag_Trading=0, tag_Trading Card Game=0, tag_Traditional Roguelike=0, tag_Trains=0, tag_Transhumanism=0, tag_Transportation=0, tag_Trivia=0, tag_Turn-Based=0, tag_Turn-Based Combat=0, tag_Turn-Based Strategy=0, tag_Turn-Based Tactics=0, tag_Tutorial=0, tag_Twin Stick Shooter=0, tag_Typing=0, tag_Underground=0, tag_Underwater=0, tag_Unforgiving=0, tag_Utilities=0, tag_VR=0, tag_VR Only=0, tag_Vampire=0, tag_Vehicular Combat=0, tag_Video Production=0, tag_Vikings=0, tag_Villain Protagonist=0, tag_Violent=0, tag_Visual Novel=0, tag_Voice Control=0, tag_Volleyball=0, tag_Voxel=0, tag_Walking Simulator=0, tag_War=0, tag_Wargame=0, tag_Warhammer 40K=0, tag_Web Publishing=0, tag_Well-Written=0, tag_Werewolves=0, tag_Western=0, tag_Wholesome=0, tag_Word Game=0, tag_World War I=0, tag_World War II=0, tag_Wrestling=0, tag_Zombies=0, tag_e-sports=1221, \"=0, total=241900.0, positive_percentage=97.4295163290616, label='Overwhelmingly Positive')]"
      ]
     },
     "execution_count": 9,
     "metadata": {},
     "output_type": "execute_result"
    }
   ],
   "source": [
    "# Load CSV files into DataFrames\n",
    "game_info = spark.read.csv(\"gs://msca-bdp-student-gcs/Group5/game_w_label/part-00000-f8cd2505-cd1c-4845-9cd5-04dfcaaebc9e-c000.csv\", header=True, inferSchema=True)\n",
    "game_info.head(1)"
   ]
  },
  {
   "cell_type": "code",
   "execution_count": 10,
   "id": "65047133-b2c2-4968-93a7-673a64eddef3",
   "metadata": {},
   "outputs": [
    {
     "name": "stdout",
     "output_type": "stream",
     "text": [
      "root\n",
      " |-- appid: integer (nullable = true)\n",
      " |-- name: string (nullable = true)\n",
      " |-- developer: string (nullable = true)\n",
      " |-- publisher: string (nullable = true)\n",
      " |-- positive: integer (nullable = true)\n",
      " |-- negative: integer (nullable = true)\n",
      " |-- owners: string (nullable = true)\n",
      " |-- average_forever: integer (nullable = true)\n",
      " |-- average_2weeks: integer (nullable = true)\n",
      " |-- median_forever: integer (nullable = true)\n",
      " |-- median_2weeks: integer (nullable = true)\n",
      " |-- price: integer (nullable = true)\n",
      " |-- initialprice: integer (nullable = true)\n",
      " |-- discount: integer (nullable = true)\n",
      " |-- ccu: integer (nullable = true)\n",
      " |-- Afrikaans: integer (nullable = true)\n",
      " |-- Arabic: integer (nullable = true)\n",
      " |-- Armenian: integer (nullable = true)\n",
      " |-- Basque: integer (nullable = true)\n",
      " |-- Belarusian: integer (nullable = true)\n",
      " |-- Bulgarian: integer (nullable = true)\n",
      " |-- Catalan: integer (nullable = true)\n",
      " |-- Croatian: integer (nullable = true)\n",
      " |-- Czech: integer (nullable = true)\n",
      " |-- Danish: integer (nullable = true)\n",
      " |-- Dutch: integer (nullable = true)\n",
      " |-- English: integer (nullable = true)\n",
      " |-- Estonian: integer (nullable = true)\n",
      " |-- Filipino: integer (nullable = true)\n",
      " |-- Finnish: integer (nullable = true)\n",
      " |-- French: integer (nullable = true)\n",
      " |-- Galician: integer (nullable = true)\n",
      " |-- Georgian: integer (nullable = true)\n",
      " |-- German: integer (nullable = true)\n",
      " |-- Greek: integer (nullable = true)\n",
      " |-- Hebrew: integer (nullable = true)\n",
      " |-- Hindi: integer (nullable = true)\n",
      " |-- Hungarian: integer (nullable = true)\n",
      " |-- Icelandic: integer (nullable = true)\n",
      " |-- Indonesian: integer (nullable = true)\n",
      " |-- Irish: integer (nullable = true)\n",
      " |-- Italian: integer (nullable = true)\n",
      " |-- Japanese: integer (nullable = true)\n",
      " |-- Kannada: integer (nullable = true)\n",
      " |-- Kazakh: integer (nullable = true)\n",
      " |-- Korean: integer (nullable = true)\n",
      " |-- Latvian: integer (nullable = true)\n",
      " |-- Lithuanian: integer (nullable = true)\n",
      " |-- Malay: integer (nullable = true)\n",
      " |-- Maori: integer (nullable = true)\n",
      " |-- Mongolian: integer (nullable = true)\n",
      " |-- Norwegian: integer (nullable = true)\n",
      " |-- Not supported: integer (nullable = true)\n",
      " |-- Persian: integer (nullable = true)\n",
      " |-- Polish: integer (nullable = true)\n",
      " |-- Portuguese: integer (nullable = true)\n",
      " |-- Portuguese - Brazil: integer (nullable = true)\n",
      " |-- Portuguese - Portugal: integer (nullable = true)\n",
      " |-- Romanian: integer (nullable = true)\n",
      " |-- Russian: integer (nullable = true)\n",
      " |-- Serbian: integer (nullable = true)\n",
      " |-- Simplified Chinese: integer (nullable = true)\n",
      " |-- Slovak: integer (nullable = true)\n",
      " |-- Slovenian: integer (nullable = true)\n",
      " |-- Spanish: integer (nullable = true)\n",
      " |-- Spanish - Latin America: integer (nullable = true)\n",
      " |-- Spanish - Spain: integer (nullable = true)\n",
      " |-- Swedish: integer (nullable = true)\n",
      " |-- Tamil: integer (nullable = true)\n",
      " |-- Telugu: integer (nullable = true)\n",
      " |-- Thai: integer (nullable = true)\n",
      " |-- Traditional Chinese: integer (nullable = true)\n",
      " |-- Turkish: integer (nullable = true)\n",
      " |-- Ukrainian: integer (nullable = true)\n",
      " |-- Vietnamese: integer (nullable = true)\n",
      " |-- genre_Action: integer (nullable = true)\n",
      " |-- genre_Action Games: integer (nullable = true)\n",
      " |-- genre_Adventure: integer (nullable = true)\n",
      " |-- genre_Animation & Modeling: integer (nullable = true)\n",
      " |-- genre_Audio Production: integer (nullable = true)\n",
      " |-- genre_Casual: integer (nullable = true)\n",
      " |-- genre_Design & Illustration: integer (nullable = true)\n",
      " |-- genre_Early Access: integer (nullable = true)\n",
      " |-- genre_Education: integer (nullable = true)\n",
      " |-- genre_Free To Play84: integer (nullable = true)\n",
      " |-- genre_Free to Play85: integer (nullable = true)\n",
      " |-- genre_Game Development: integer (nullable = true)\n",
      " |-- genre_Indie: integer (nullable = true)\n",
      " |-- genre_Massively Multiplayer: integer (nullable = true)\n",
      " |-- genre_Photo Editing: integer (nullable = true)\n",
      " |-- genre_RPG: integer (nullable = true)\n",
      " |-- genre_Racing: integer (nullable = true)\n",
      " |-- genre_Simulation: integer (nullable = true)\n",
      " |-- genre_Software Training: integer (nullable = true)\n",
      " |-- genre_Sports: integer (nullable = true)\n",
      " |-- genre_Strategy: integer (nullable = true)\n",
      " |-- genre_Utilities: integer (nullable = true)\n",
      " |-- genre_Video Production: integer (nullable = true)\n",
      " |-- genre_Web Publishing: integer (nullable = true)\n",
      " |-- tag_1980s: integer (nullable = true)\n",
      " |-- tag_1990's: integer (nullable = true)\n",
      " |-- tag_2.5D: integer (nullable = true)\n",
      " |-- tag_2D: integer (nullable = true)\n",
      " |-- tag_2D Fighter: integer (nullable = true)\n",
      " |-- tag_2D Platformer: integer (nullable = true)\n",
      " |-- tag_360 Video: integer (nullable = true)\n",
      " |-- tag_3D: integer (nullable = true)\n",
      " |-- tag_3D Fighter: integer (nullable = true)\n",
      " |-- tag_3D Platformer: integer (nullable = true)\n",
      " |-- tag_3D Vision: integer (nullable = true)\n",
      " |-- tag_4 Player Local: integer (nullable = true)\n",
      " |-- tag_4X: integer (nullable = true)\n",
      " |-- tag_6DOF: integer (nullable = true)\n",
      " |-- tag_ATV: integer (nullable = true)\n",
      " |-- tag_Abstract: integer (nullable = true)\n",
      " |-- tag_Action: integer (nullable = true)\n",
      " |-- tag_Action RPG: integer (nullable = true)\n",
      " |-- tag_Action RTS: integer (nullable = true)\n",
      " |-- tag_Action Roguelike: integer (nullable = true)\n",
      " |-- tag_Action-Adventure: integer (nullable = true)\n",
      " |-- tag_Addictive: integer (nullable = true)\n",
      " |-- tag_Adventure: integer (nullable = true)\n",
      " |-- tag_Agriculture: integer (nullable = true)\n",
      " |-- tag_Aliens: integer (nullable = true)\n",
      " |-- tag_Alternate History: integer (nullable = true)\n",
      " |-- tag_Ambient: integer (nullable = true)\n",
      " |-- tag_America: integer (nullable = true)\n",
      " |-- tag_Animation & Modeling: integer (nullable = true)\n",
      " |-- tag_Anime: integer (nullable = true)\n",
      " |-- tag_Arcade: integer (nullable = true)\n",
      " |-- tag_Archery: integer (nullable = true)\n",
      " |-- tag_Arena Shooter: integer (nullable = true)\n",
      " |-- tag_Artificial Intelligence: integer (nullable = true)\n",
      " |-- tag_Assassin: integer (nullable = true)\n",
      " |-- tag_Asymmetric VR: integer (nullable = true)\n",
      " |-- tag_Asynchronous Multiplayer: integer (nullable = true)\n",
      " |-- tag_Atmospheric: integer (nullable = true)\n",
      " |-- tag_Audio Production: integer (nullable = true)\n",
      " |-- tag_Auto Battler: integer (nullable = true)\n",
      " |-- tag_Automation: integer (nullable = true)\n",
      " |-- tag_Automobile Sim: integer (nullable = true)\n",
      " |-- tag_Base-Building: integer (nullable = true)\n",
      " |-- tag_Based On A Novel: integer (nullable = true)\n",
      " |-- tag_Basketball: integer (nullable = true)\n",
      " |-- tag_Battle Royale: integer (nullable = true)\n",
      " |-- tag_Beat 'em up: integer (nullable = true)\n",
      " |-- tag_Beautiful: integer (nullable = true)\n",
      " |-- tag_Benchmark: integer (nullable = true)\n",
      " |-- tag_Bikes: integer (nullable = true)\n",
      " |-- tag_Blood: integer (nullable = true)\n",
      " |-- tag_Board Game: integer (nullable = true)\n",
      " |-- tag_Boomer Shooter: integer (nullable = true)\n",
      " |-- tag_Boss Rush: integer (nullable = true)\n",
      " |-- tag_Boxing: integer (nullable = true)\n",
      " |-- tag_Building: integer (nullable = true)\n",
      " |-- tag_Bullet Hell: integer (nullable = true)\n",
      " |-- tag_Bullet Time: integer (nullable = true)\n",
      " |-- tag_CRPG: integer (nullable = true)\n",
      " |-- tag_Capitalism: integer (nullable = true)\n",
      " |-- tag_Card Battler: integer (nullable = true)\n",
      " |-- tag_Card Game: integer (nullable = true)\n",
      " |-- tag_Cartoon: integer (nullable = true)\n",
      " |-- tag_Cartoony: integer (nullable = true)\n",
      " |-- tag_Casual: integer (nullable = true)\n",
      " |-- tag_Cats: integer (nullable = true)\n",
      " |-- tag_Character Action Game: integer (nullable = true)\n",
      " |-- tag_Character Customization: integer (nullable = true)\n",
      " |-- tag_Chess: integer (nullable = true)\n",
      " |-- tag_Choices Matter: integer (nullable = true)\n",
      " |-- tag_Choose Your Own Adventure: integer (nullable = true)\n",
      " |-- tag_Cinematic: integer (nullable = true)\n",
      " |-- tag_City Builder: integer (nullable = true)\n",
      " |-- tag_Class-Based: integer (nullable = true)\n",
      " |-- tag_Classic: integer (nullable = true)\n",
      " |-- tag_Clicker: integer (nullable = true)\n",
      " |-- tag_Co-op: integer (nullable = true)\n",
      " |-- tag_Co-op Campaign: integer (nullable = true)\n",
      " |-- tag_Coding: integer (nullable = true)\n",
      " |-- tag_Cold War: integer (nullable = true)\n",
      " |-- tag_Collectathon: integer (nullable = true)\n",
      " |-- tag_Colony Sim: integer (nullable = true)\n",
      " |-- tag_Colorful: integer (nullable = true)\n",
      " |-- tag_Combat: integer (nullable = true)\n",
      " |-- tag_Combat Racing: integer (nullable = true)\n",
      " |-- tag_Comedy: integer (nullable = true)\n",
      " |-- tag_Comic Book: integer (nullable = true)\n",
      " |-- tag_Competitive: integer (nullable = true)\n",
      " |-- tag_Conspiracy: integer (nullable = true)\n",
      " |-- tag_Controller: integer (nullable = true)\n",
      " |-- tag_Conversation: integer (nullable = true)\n",
      " |-- tag_Cooking: integer (nullable = true)\n",
      " |-- tag_Cozy: integer (nullable = true)\n",
      " |-- tag_Crafting: integer (nullable = true)\n",
      " |-- tag_Creature Collector: integer (nullable = true)\n",
      " |-- tag_Cricket: integer (nullable = true)\n",
      " |-- tag_Crime: integer (nullable = true)\n",
      " |-- tag_Crowdfunded: integer (nullable = true)\n",
      " |-- tag_Cult Classic: integer (nullable = true)\n",
      " |-- tag_Cute: integer (nullable = true)\n",
      " |-- tag_Cyberpunk: integer (nullable = true)\n",
      " |-- tag_Cycling: integer (nullable = true)\n",
      " |-- tag_Dark: integer (nullable = true)\n",
      " |-- tag_Dark Comedy: integer (nullable = true)\n",
      " |-- tag_Dark Fantasy: integer (nullable = true)\n",
      " |-- tag_Dark Humor: integer (nullable = true)\n",
      " |-- tag_Dating Sim: integer (nullable = true)\n",
      " |-- tag_Deckbuilding: integer (nullable = true)\n",
      " |-- tag_Demons: integer (nullable = true)\n",
      " |-- tag_Design & Illustration: integer (nullable = true)\n",
      " |-- tag_Destruction: integer (nullable = true)\n",
      " |-- tag_Detective: integer (nullable = true)\n",
      " |-- tag_Dice: integer (nullable = true)\n",
      " |-- tag_Difficult: integer (nullable = true)\n",
      " |-- tag_Dinosaurs: integer (nullable = true)\n",
      " |-- tag_Diplomacy: integer (nullable = true)\n",
      " |-- tag_Documentary: integer (nullable = true)\n",
      " |-- tag_Dog: integer (nullable = true)\n",
      " |-- tag_Dragons: integer (nullable = true)\n",
      " |-- tag_Drama: integer (nullable = true)\n",
      " |-- tag_Driving: integer (nullable = true)\n",
      " |-- tag_Dungeon Crawler: integer (nullable = true)\n",
      " |-- tag_Dungeons & Dragons: integer (nullable = true)\n",
      " |-- tag_Dwarf: integer (nullable = true)\n",
      " |-- tag_Dynamic Narration: integer (nullable = true)\n",
      " |-- tag_Dystopian: integer (nullable = true)\n",
      " |-- tag_Early Access: integer (nullable = true)\n",
      " |-- tag_Economy: integer (nullable = true)\n",
      " |-- tag_Education: integer (nullable = true)\n",
      " |-- tag_Electronic: integer (nullable = true)\n",
      " |-- tag_Electronic Music: integer (nullable = true)\n",
      " |-- tag_Elf: integer (nullable = true)\n",
      " |-- tag_Emotional: integer (nullable = true)\n",
      " |-- tag_Epic: integer (nullable = true)\n",
      " |-- tag_Episodic: integer (nullable = true)\n",
      " |-- tag_Escape Room: integer (nullable = true)\n",
      " |-- tag_Experience: integer (nullable = true)\n",
      " |-- tag_Experimental: integer (nullable = true)\n",
      " |-- tag_Exploration: integer (nullable = true)\n",
      " |-- tag_FMV: integer (nullable = true)\n",
      " |-- tag_FPS: integer (nullable = true)\n",
      " |-- tag_Faith: integer (nullable = true)\n",
      " |-- tag_Family Friendly: integer (nullable = true)\n",
      " |-- tag_Fantasy: integer (nullable = true)\n",
      " |-- tag_Farming: integer (nullable = true)\n",
      " |-- tag_Farming Sim: integer (nullable = true)\n",
      " |-- tag_Fast-Paced: integer (nullable = true)\n",
      " |-- tag_Feature Film: integer (nullable = true)\n",
      " |-- tag_Female Protagonist: integer (nullable = true)\n",
      " |-- tag_Fighting: integer (nullable = true)\n",
      " |-- tag_First-Person: integer (nullable = true)\n",
      " |-- tag_Fishing: integer (nullable = true)\n",
      " |-- tag_Flight: integer (nullable = true)\n",
      " |-- tag_Football: integer (nullable = true)\n",
      " |-- tag_Football (American): integer (nullable = true)\n",
      " |-- tag_Football (Soccer): integer (nullable = true)\n",
      " |-- tag_Foreign: integer (nullable = true)\n",
      " |-- tag_Fox: integer (nullable = true)\n",
      " |-- tag_Free to Play: integer (nullable = true)\n",
      " |-- tag_Funny: integer (nullable = true)\n",
      " |-- tag_Futuristic: integer (nullable = true)\n",
      " |-- tag_Gambling: integer (nullable = true)\n",
      " |-- tag_Game Development: integer (nullable = true)\n",
      " |-- tag_GameMaker: integer (nullable = true)\n",
      " |-- tag_Games Workshop: integer (nullable = true)\n",
      " |-- tag_Gaming: integer (nullable = true)\n",
      " |-- tag_God Game: integer (nullable = true)\n",
      " |-- tag_Golf: integer (nullable = true)\n",
      " |-- tag_Gore: integer (nullable = true)\n",
      " |-- tag_Gothic: integer (nullable = true)\n",
      " |-- tag_Grand Strategy: integer (nullable = true)\n",
      " |-- tag_Great Soundtrack: integer (nullable = true)\n",
      " |-- tag_Grid-Based Movement: integer (nullable = true)\n",
      " |-- tag_Gun Customization: integer (nullable = true)\n",
      " |-- tag_Hack and Slash: integer (nullable = true)\n",
      " |-- tag_Hacking: integer (nullable = true)\n",
      " |-- tag_Hand-drawn: integer (nullable = true)\n",
      " |-- tag_Hardware: integer (nullable = true)\n",
      " |-- tag_Heist: integer (nullable = true)\n",
      " |-- tag_Hentai: integer (nullable = true)\n",
      " |-- tag_Hero Shooter: integer (nullable = true)\n",
      " |-- tag_Hex Grid: integer (nullable = true)\n",
      " |-- tag_Hidden Object: integer (nullable = true)\n",
      " |-- tag_Historical: integer (nullable = true)\n",
      " |-- tag_Hobby Sim: integer (nullable = true)\n",
      " |-- tag_Hockey: integer (nullable = true)\n",
      " |-- tag_Horror: integer (nullable = true)\n",
      " |-- tag_Horses: integer (nullable = true)\n",
      " |-- tag_Hunting: integer (nullable = true)\n",
      " |-- tag_Idler: integer (nullable = true)\n",
      " |-- tag_Illuminati: integer (nullable = true)\n",
      " |-- tag_Immersive: integer (nullable = true)\n",
      " |-- tag_Immersive Sim: integer (nullable = true)\n",
      " |-- tag_Indie: integer (nullable = true)\n",
      " |-- tag_Instrumental Music: integer (nullable = true)\n",
      " |-- tag_Intentionally Awkward Controls: integer (nullable = true)\n",
      " |-- tag_Interactive Fiction: integer (nullable = true)\n",
      " |-- tag_Inventory Management: integer (nullable = true)\n",
      " |-- tag_Investigation: integer (nullable = true)\n",
      " |-- tag_Isometric: integer (nullable = true)\n",
      " |-- tag_JRPG: integer (nullable = true)\n",
      " |-- tag_Jet: integer (nullable = true)\n",
      " |-- tag_Job Simulator: integer (nullable = true)\n",
      " |-- tag_Kickstarter: integer (nullable = true)\n",
      " |-- tag_LEGO: integer (nullable = true)\n",
      " |-- tag_LGBTQ+: integer (nullable = true)\n",
      " |-- tag_Level Editor: integer (nullable = true)\n",
      " |-- tag_Life Sim: integer (nullable = true)\n",
      " |-- tag_Linear: integer (nullable = true)\n",
      " |-- tag_Local Co-Op: integer (nullable = true)\n",
      " |-- tag_Local Multiplayer: integer (nullable = true)\n",
      " |-- tag_Logic: integer (nullable = true)\n",
      " |-- tag_Loot: integer (nullable = true)\n",
      " |-- tag_Looter Shooter: integer (nullable = true)\n",
      " |-- tag_Lore-Rich: integer (nullable = true)\n",
      " |-- tag_Lovecraftian: integer (nullable = true)\n",
      " |-- tag_MMORPG: integer (nullable = true)\n",
      " |-- tag_MOBA: integer (nullable = true)\n",
      " |-- tag_Magic: integer (nullable = true)\n",
      " |-- tag_Mahjong: integer (nullable = true)\n",
      " |-- tag_Management: integer (nullable = true)\n",
      " |-- tag_Mars: integer (nullable = true)\n",
      " |-- tag_Martial Arts: integer (nullable = true)\n",
      " |-- tag_Massively Multiplayer: integer (nullable = true)\n",
      " |-- tag_Masterpiece: integer (nullable = true)\n",
      " |-- tag_Match 3: integer (nullable = true)\n",
      " |-- tag_Mature: integer (nullable = true)\n",
      " |-- tag_Mechs: integer (nullable = true)\n",
      " |-- tag_Medical Sim: integer (nullable = true)\n",
      " |-- tag_Medieval: integer (nullable = true)\n",
      " |-- tag_Memes: integer (nullable = true)\n",
      " |-- tag_Metroidvania: integer (nullable = true)\n",
      " |-- tag_Military: integer (nullable = true)\n",
      " |-- tag_Mini Golf: integer (nullable = true)\n",
      " |-- tag_Minigames: integer (nullable = true)\n",
      " |-- tag_Minimalist: integer (nullable = true)\n",
      " |-- tag_Mining: integer (nullable = true)\n",
      " |-- tag_Mod: integer (nullable = true)\n",
      " |-- tag_Moddable: integer (nullable = true)\n",
      " |-- tag_Modern: integer (nullable = true)\n",
      " |-- tag_Motocross: integer (nullable = true)\n",
      " |-- tag_Motorbike: integer (nullable = true)\n",
      " |-- tag_Mouse only: integer (nullable = true)\n",
      " |-- tag_Movie: integer (nullable = true)\n",
      " |-- tag_Multiplayer: integer (nullable = true)\n",
      " |-- tag_Multiple Endings: integer (nullable = true)\n",
      " |-- tag_Music: integer (nullable = true)\n",
      " |-- tag_Music-Based Procedural Generation: integer (nullable = true)\n",
      " |-- tag_Musou: integer (nullable = true)\n",
      " |-- tag_Mystery: integer (nullable = true)\n",
      " |-- tag_Mystery Dungeon: integer (nullable = true)\n",
      " |-- tag_Mythology: integer (nullable = true)\n",
      " |-- tag_NSFW: integer (nullable = true)\n",
      " |-- tag_Narration: integer (nullable = true)\n",
      " |-- tag_Narrative: integer (nullable = true)\n",
      " |-- tag_Nature: integer (nullable = true)\n",
      " |-- tag_Naval: integer (nullable = true)\n",
      " |-- tag_Naval Combat: integer (nullable = true)\n",
      " |-- tag_Ninja: integer (nullable = true)\n",
      " |-- tag_Noir: integer (nullable = true)\n",
      " |-- tag_Nonlinear: integer (nullable = true)\n",
      " |-- tag_Nostalgia: integer (nullable = true)\n",
      " |-- tag_Nudity: integer (nullable = true)\n",
      " |-- tag_Offroad: integer (nullable = true)\n",
      " |-- tag_Old School: integer (nullable = true)\n",
      " |-- tag_On-Rails Shooter: integer (nullable = true)\n",
      " |-- tag_Online Co-Op: integer (nullable = true)\n",
      " |-- tag_Open World: integer (nullable = true)\n",
      " |-- tag_Open World Survival Craft: integer (nullable = true)\n",
      " |-- tag_Otome: integer (nullable = true)\n",
      " |-- tag_Outbreak Sim: integer (nullable = true)\n",
      " |-- tag_Parkour: integer (nullable = true)\n",
      " |-- tag_Parody: integer (nullable = true)\n",
      " |-- tag_Party: integer (nullable = true)\n",
      " |-- tag_Party Game: integer (nullable = true)\n",
      " |-- tag_Party-Based RPG: integer (nullable = true)\n",
      " |-- tag_Perma Death: integer (nullable = true)\n",
      " |-- tag_Philosophical: integer (nullable = true)\n",
      " |-- tag_Photo Editing: integer (nullable = true)\n",
      " |-- tag_Physics: integer (nullable = true)\n",
      " |-- tag_Pinball: integer (nullable = true)\n",
      " |-- tag_Pirates: integer (nullable = true)\n",
      " |-- tag_Pixel Graphics: integer (nullable = true)\n",
      " |-- tag_Platformer: integer (nullable = true)\n",
      " |-- tag_Point & Click: integer (nullable = true)\n",
      " |-- tag_Political: integer (nullable = true)\n",
      " |-- tag_Political Sim: integer (nullable = true)\n",
      " |-- tag_Politics: integer (nullable = true)\n",
      " |-- tag_Pool: integer (nullable = true)\n",
      " |-- tag_Post-apocalyptic: integer (nullable = true)\n",
      " |-- tag_Precision Platformer: integer (nullable = true)\n",
      " |-- tag_Procedural Generation: integer (nullable = true)\n",
      " |-- tag_Programming: integer (nullable = true)\n",
      " |-- tag_Psychedelic: integer (nullable = true)\n",
      " |-- tag_Psychological: integer (nullable = true)\n",
      " |-- tag_Psychological Horror: integer (nullable = true)\n",
      " |-- tag_Puzzle: integer (nullable = true)\n",
      " |-- tag_Puzzle-Platformer: integer (nullable = true)\n",
      " |-- tag_PvE: integer (nullable = true)\n",
      " |-- tag_PvP: integer (nullable = true)\n",
      " |-- tag_Quick-Time Events: integer (nullable = true)\n",
      " |-- tag_RPG: integer (nullable = true)\n",
      " |-- tag_RPGMaker: integer (nullable = true)\n",
      " |-- tag_RTS: integer (nullable = true)\n",
      " |-- tag_Racing: integer (nullable = true)\n",
      " |-- tag_Real Time Tactics: integer (nullable = true)\n",
      " |-- tag_Real-Time: integer (nullable = true)\n",
      " |-- tag_Real-Time with Pause: integer (nullable = true)\n",
      " |-- tag_Realistic: integer (nullable = true)\n",
      " |-- tag_Reboot: integer (nullable = true)\n",
      " |-- tag_Relaxing: integer (nullable = true)\n",
      " |-- tag_Remake: integer (nullable = true)\n",
      " |-- tag_Replay Value: integer (nullable = true)\n",
      " |-- tag_Resource Management: integer (nullable = true)\n",
      " |-- tag_Retro: integer (nullable = true)\n",
      " |-- tag_Rhythm: integer (nullable = true)\n",
      " |-- tag_Robots: integer (nullable = true)\n",
      " |-- tag_Rock Music: integer (nullable = true)\n",
      " |-- tag_Rogue-like: integer (nullable = true)\n",
      " |-- tag_Rogue-lite: integer (nullable = true)\n",
      " |-- tag_Roguelike Deckbuilder: integer (nullable = true)\n",
      " |-- tag_Roguevania: integer (nullable = true)\n",
      " |-- tag_Romance: integer (nullable = true)\n",
      " |-- tag_Rome: integer (nullable = true)\n",
      " |-- tag_Rugby: integer (nullable = true)\n",
      " |-- tag_Runner: integer (nullable = true)\n",
      " |-- tag_Sailing: integer (nullable = true)\n",
      " |-- tag_Sandbox: integer (nullable = true)\n",
      " |-- tag_Satire: integer (nullable = true)\n",
      " |-- tag_Sci-fi: integer (nullable = true)\n",
      " |-- tag_Science: integer (nullable = true)\n",
      " |-- tag_Score Attack: integer (nullable = true)\n",
      " |-- tag_Sequel: integer (nullable = true)\n",
      " |-- tag_Sexual Content: integer (nullable = true)\n",
      " |-- tag_Shoot 'Em Up: integer (nullable = true)\n",
      " |-- tag_Shooter: integer (nullable = true)\n",
      " |-- tag_Shop Keeper: integer (nullable = true)\n",
      " |-- tag_Short: integer (nullable = true)\n",
      " |-- tag_Side Scroller: integer (nullable = true)\n",
      " |-- tag_Silent Protagonist: integer (nullable = true)\n",
      " |-- tag_Simulation: integer (nullable = true)\n",
      " |-- tag_Singleplayer: integer (nullable = true)\n",
      " |-- tag_Skateboarding: integer (nullable = true)\n",
      " |-- tag_Skating: integer (nullable = true)\n",
      " |-- tag_Skiing: integer (nullable = true)\n",
      " |-- tag_Sniper: integer (nullable = true)\n",
      " |-- tag_Snow: integer (nullable = true)\n",
      " |-- tag_Snowboarding: integer (nullable = true)\n",
      " |-- tag_Soccer: integer (nullable = true)\n",
      " |-- tag_Social Deduction: integer (nullable = true)\n",
      " |-- tag_Software: integer (nullable = true)\n",
      " |-- tag_Software Training: integer (nullable = true)\n",
      " |-- tag_Sokoban: integer (nullable = true)\n",
      " |-- tag_Solitaire: integer (nullable = true)\n",
      " |-- tag_Souls-like: integer (nullable = true)\n",
      " |-- tag_Soundtrack: integer (nullable = true)\n",
      " |-- tag_Space: integer (nullable = true)\n",
      " |-- tag_Space Sim: integer (nullable = true)\n",
      " |-- tag_Spaceships: integer (nullable = true)\n",
      " |-- tag_Spectacle fighter: integer (nullable = true)\n",
      " |-- tag_Spelling: integer (nullable = true)\n",
      " |-- tag_Split Screen: integer (nullable = true)\n",
      " |-- tag_Sports: integer (nullable = true)\n",
      " |-- tag_Stealth: integer (nullable = true)\n",
      " |-- tag_Steampunk: integer (nullable = true)\n",
      " |-- tag_Story Rich: integer (nullable = true)\n",
      " |-- tag_Strategy: integer (nullable = true)\n",
      " |-- tag_Strategy RPG: integer (nullable = true)\n",
      " |-- tag_Stylized: integer (nullable = true)\n",
      " |-- tag_Submarine: integer (nullable = true)\n",
      " |-- tag_Superhero: integer (nullable = true)\n",
      " |-- tag_Supernatural: integer (nullable = true)\n",
      " |-- tag_Surreal: integer (nullable = true)\n",
      " |-- tag_Survival: integer (nullable = true)\n",
      " |-- tag_Survival Horror: integer (nullable = true)\n",
      " |-- tag_Swordplay: integer (nullable = true)\n",
      " |-- tag_Tabletop: integer (nullable = true)\n",
      " |-- tag_Tactical: integer (nullable = true)\n",
      " |-- tag_Tactical RPG: integer (nullable = true)\n",
      " |-- tag_Tanks: integer (nullable = true)\n",
      " |-- tag_Team-Based: integer (nullable = true)\n",
      " |-- tag_Tennis: integer (nullable = true)\n",
      " |-- tag_Text-Based: integer (nullable = true)\n",
      " |-- tag_Third Person: integer (nullable = true)\n",
      " |-- tag_Third-Person Shooter: integer (nullable = true)\n",
      " |-- tag_Thriller: integer (nullable = true)\n",
      " |-- tag_Tile-Matching: integer (nullable = true)\n",
      " |-- tag_Time Attack: integer (nullable = true)\n",
      " |-- tag_Time Management: integer (nullable = true)\n",
      " |-- tag_Time Manipulation: integer (nullable = true)\n",
      " |-- tag_Time Travel: integer (nullable = true)\n",
      " |-- tag_Top-Down: integer (nullable = true)\n",
      " |-- tag_Top-Down Shooter: integer (nullable = true)\n",
      " |-- tag_Touch-Friendly: integer (nullable = true)\n",
      " |-- tag_Tower Defense: integer (nullable = true)\n",
      " |-- tag_TrackIR: integer (nullable = true)\n",
      " |-- tag_Trading: integer (nullable = true)\n",
      " |-- tag_Trading Card Game: integer (nullable = true)\n",
      " |-- tag_Traditional Roguelike: integer (nullable = true)\n",
      " |-- tag_Trains: integer (nullable = true)\n",
      " |-- tag_Transhumanism: integer (nullable = true)\n",
      " |-- tag_Transportation: integer (nullable = true)\n",
      " |-- tag_Trivia: integer (nullable = true)\n",
      " |-- tag_Turn-Based: integer (nullable = true)\n",
      " |-- tag_Turn-Based Combat: integer (nullable = true)\n",
      " |-- tag_Turn-Based Strategy: integer (nullable = true)\n",
      " |-- tag_Turn-Based Tactics: integer (nullable = true)\n",
      " |-- tag_Tutorial: integer (nullable = true)\n",
      " |-- tag_Twin Stick Shooter: integer (nullable = true)\n",
      " |-- tag_Typing: integer (nullable = true)\n",
      " |-- tag_Underground: integer (nullable = true)\n",
      " |-- tag_Underwater: integer (nullable = true)\n",
      " |-- tag_Unforgiving: integer (nullable = true)\n",
      " |-- tag_Utilities: integer (nullable = true)\n",
      " |-- tag_VR: integer (nullable = true)\n",
      " |-- tag_VR Only: integer (nullable = true)\n",
      " |-- tag_Vampire: integer (nullable = true)\n",
      " |-- tag_Vehicular Combat: integer (nullable = true)\n",
      " |-- tag_Video Production: integer (nullable = true)\n",
      " |-- tag_Vikings: integer (nullable = true)\n",
      " |-- tag_Villain Protagonist: integer (nullable = true)\n",
      " |-- tag_Violent: integer (nullable = true)\n",
      " |-- tag_Visual Novel: integer (nullable = true)\n",
      " |-- tag_Voice Control: integer (nullable = true)\n",
      " |-- tag_Volleyball: integer (nullable = true)\n",
      " |-- tag_Voxel: integer (nullable = true)\n",
      " |-- tag_Walking Simulator: integer (nullable = true)\n",
      " |-- tag_War: integer (nullable = true)\n",
      " |-- tag_Wargame: integer (nullable = true)\n",
      " |-- tag_Warhammer 40K: integer (nullable = true)\n",
      " |-- tag_Web Publishing: integer (nullable = true)\n",
      " |-- tag_Well-Written: integer (nullable = true)\n",
      " |-- tag_Werewolves: integer (nullable = true)\n",
      " |-- tag_Western: integer (nullable = true)\n",
      " |-- tag_Wholesome: integer (nullable = true)\n",
      " |-- tag_Word Game: integer (nullable = true)\n",
      " |-- tag_World War I: integer (nullable = true)\n",
      " |-- tag_World War II: integer (nullable = true)\n",
      " |-- tag_Wrestling: integer (nullable = true)\n",
      " |-- tag_Zombies: integer (nullable = true)\n",
      " |-- tag_e-sports: integer (nullable = true)\n",
      " |-- \": integer (nullable = true)\n",
      " |-- total: double (nullable = true)\n",
      " |-- positive_percentage: double (nullable = true)\n",
      " |-- label: string (nullable = true)\n",
      "\n"
     ]
    }
   ],
   "source": [
    "game_info.printSchema()"
   ]
  },
  {
   "cell_type": "code",
   "execution_count": 11,
   "id": "7ff1b4a6-662a-4894-9510-c002130c77fb",
   "metadata": {},
   "outputs": [
    {
     "name": "stdout",
     "output_type": "stream",
     "text": [
      "+-----+--------------+------------------+\n",
      "|appid|author_steamid|sentiment_score   |\n",
      "+-----+--------------+------------------+\n",
      "|10   |4885          |0.8847313172665581|\n",
      "|10   |16068         |0.8731704227545498|\n",
      "|10   |73141         |0.9042052339242086|\n",
      "|10   |125096        |0.8807123180475541|\n",
      "|10   |202012        |0.8555295814817651|\n",
      "|10   |236498        |0.8737499209301924|\n",
      "|10   |279059        |0.866265366391876 |\n",
      "|10   |884484        |0.8593730529478136|\n",
      "|10   |886865        |0.8742503363379408|\n",
      "|10   |889070        |0.8730743843530598|\n",
      "+-----+--------------+------------------+\n",
      "only showing top 10 rows\n",
      "\n"
     ]
    }
   ],
   "source": [
    "from pyspark.sql.functions import col\n",
    "\n",
    "# Select only the required columns\n",
    "reviews_score = reviews_w_score.select(\n",
    "    col(\"appid\"),\n",
    "    col(\"author_steamid\").cast(\"integer\").alias(\"author_steamid\"),\n",
    "    col(\"sentiment_score\")\n",
    ")\n",
    "\n",
    "# Drop rows with null values in any of the selected columns\n",
    "reviews_score = reviews_score.dropna()\n",
    "\n",
    "# Show the first 10 rows to confirm\n",
    "reviews_score.show(10, truncate=False)"
   ]
  },
  {
   "cell_type": "code",
   "execution_count": 12,
   "id": "1de15a22-6f7e-4516-9790-25d279257a5d",
   "metadata": {},
   "outputs": [
    {
     "name": "stdout",
     "output_type": "stream",
     "text": [
      "+-------+-------------------------------+---------+-----------------------------------+-----------------------------+-----+-----------------------+\n",
      "|appid  |name                           |genre    |developer                          |publisher                    |price|label                  |\n",
      "+-------+-------------------------------+---------+-----------------------------------+-----------------------------+-----+-----------------------+\n",
      "|10     |Counter-Strike                 |Action   |Valve                              |Valve                        |999  |Overwhelmingly Positive|\n",
      "|1000010|Crown Trick                    |Adventure|NEXT Studios                       |Team17, NEXT Studios         |1999 |Very Positive          |\n",
      "|1000030|Cook, Serve, Delicious! 3?!    |Action   |Vertigo Gaming Inc.                |Vertigo Gaming Inc.          |1999 |Very Positive          |\n",
      "|1000080|Zengeon                        |Action   |IndieLeague Studio                 |2P Games                     |1999 |Mixed                  |\n",
      "|1000280|Tower of Origin2-Worm's Nest   |Indie    |Villain Role                       |Villain Role                 |1399 |Mixed                  |\n",
      "|1000360|Hellish Quart                  |Action   |Kubold                             |Kubold                       |1699 |Very Positive          |\n",
      "|1000380|Rogue Reaper                   |Action   |Fireroot Studios                   |Fireroot Studios             |0    |Mostly Positive        |\n",
      "|1000410|WRATH: Aeon of Ruin            |Action   |KillPixel Games, Slipgate Ironworks|3D Realms, Fulqrum Publishing|849  |Mixed                  |\n",
      "|1000440|东方雪莲华 ～ Abyss Soul Lotus.|Action   |雨夜枫雪制作组, SlimeSmile         |雨夜枫雪制作组               |1299 |Very Positive          |\n",
      "|1000700|Insomnis                       |Adventure|Path Games                         |Path Games                   |449  |Very Positive          |\n",
      "+-------+-------------------------------+---------+-----------------------------------+-----------------------------+-----+-----------------------+\n",
      "only showing top 10 rows\n",
      "\n"
     ]
    }
   ],
   "source": [
    "from pyspark.sql.functions import expr, col\n",
    "\n",
    "# List of genre columns to combine into one column\n",
    "genre_columns = [\n",
    "    \"genre_Action\", \"genre_Action Games\", \"genre_Adventure\", \"genre_Animation & Modeling\", \n",
    "    \"genre_Audio Production\", \"genre_Casual\", \"genre_Design & Illustration\", \n",
    "    \"genre_Early Access\", \"genre_Education\", \"genre_Free To Play84\", \"genre_Free to Play85\",\n",
    "    \"genre_Game Development\", \"genre_Indie\", \"genre_Massively Multiplayer\", \n",
    "    \"genre_Photo Editing\", \"genre_RPG\", \"genre_Racing\", \"genre_Simulation\", \n",
    "    \"genre_Software Training\", \"genre_Sports\", \"genre_Strategy\", \"genre_Utilities\", \n",
    "    \"genre_Video Production\", \"genre_Web Publishing\"\n",
    "]\n",
    "\n",
    "# Wrap column names with backticks (`) to handle special characters and spaces\n",
    "game_info_with_genre = game_info.withColumn(\n",
    "    \"genre\",\n",
    "    expr(\"CASE \" + \" \".join([f\"WHEN `{col}` = 1 THEN '{col}'\" for col in genre_columns]) + \" ELSE 'Unknown' END\")\n",
    ")\n",
    "\n",
    "# Remove the 'genre_' prefix from the combined genre column\n",
    "game_info_with_genre = game_info_with_genre.withColumn(\n",
    "    \"genre\", expr(\"replace(genre, 'genre_', '')\")\n",
    ")\n",
    "\n",
    "# Select only the required columns\n",
    "games = game_info_with_genre.select(\n",
    "    \"appid\", \"name\", \"genre\", \"developer\", \"publisher\", \"price\", \"label\"\n",
    ")\n",
    "\n",
    "# Show a few rows to confirm\n",
    "games.show(10, truncate=False)"
   ]
  },
  {
   "cell_type": "code",
   "execution_count": 18,
   "id": "71e5a9e7-de4d-4449-bcf9-05885f88106d",
   "metadata": {},
   "outputs": [
    {
     "name": "stderr",
     "output_type": "stream",
     "text": [
      "                                                                                \r"
     ]
    },
    {
     "name": "stdout",
     "output_type": "stream",
     "text": [
      "+-----+--------------+------------------+--------------+------+---------+---------+-----+-----------------------+\n",
      "|appid|author_steamid|sentiment_score   |name          |genre |developer|publisher|price|label                  |\n",
      "+-----+--------------+------------------+--------------+------+---------+---------+-----+-----------------------+\n",
      "|10   |4885          |0.8847313172665581|Counter-Strike|Action|Valve    |Valve    |999  |Overwhelmingly Positive|\n",
      "|10   |16068         |0.8731704227545498|Counter-Strike|Action|Valve    |Valve    |999  |Overwhelmingly Positive|\n",
      "|10   |73141         |0.9042052339242086|Counter-Strike|Action|Valve    |Valve    |999  |Overwhelmingly Positive|\n",
      "|10   |125096        |0.8807123180475541|Counter-Strike|Action|Valve    |Valve    |999  |Overwhelmingly Positive|\n",
      "|10   |202012        |0.8555295814817651|Counter-Strike|Action|Valve    |Valve    |999  |Overwhelmingly Positive|\n",
      "+-----+--------------+------------------+--------------+------+---------+---------+-----+-----------------------+\n",
      "only showing top 5 rows\n",
      "\n"
     ]
    },
    {
     "name": "stderr",
     "output_type": "stream",
     "text": [
      "[Stage 17:>                                                         (0 + 1) / 1]\r"
     ]
    }
   ],
   "source": [
    "# Perform the left join\n",
    "reviews_info = reviews_score.join(games, reviews_score.appid == games.appid, how=\"inner\")\n",
    "\n",
    "# Drop duplicate 'appid' column from the 'games' DataFrame\n",
    "reviews_info = reviews_info.drop(games.appid)\n",
    "\n",
    "# Show the results to verify\n",
    "reviews_info.show(5, truncate=False)"
   ]
  },
  {
   "cell_type": "code",
   "execution_count": 19,
   "id": "1f634c25-0679-4c27-9a9e-67fc2e711a9a",
   "metadata": {},
   "outputs": [
    {
     "name": "stdout",
     "output_type": "stream",
     "text": [
      "root\n",
      " |-- appid: integer (nullable = true)\n",
      " |-- author_steamid: integer (nullable = true)\n",
      " |-- sentiment_score: double (nullable = true)\n",
      " |-- name: string (nullable = true)\n",
      " |-- genre: string (nullable = false)\n",
      " |-- developer: string (nullable = true)\n",
      " |-- publisher: string (nullable = true)\n",
      " |-- price: integer (nullable = true)\n",
      " |-- label: string (nullable = true)\n",
      "\n"
     ]
    }
   ],
   "source": [
    "reviews_info.printSchema()"
   ]
  },
  {
   "cell_type": "code",
   "execution_count": 20,
   "id": "48b14a0b-9da4-4c05-8a58-65d838212c14",
   "metadata": {},
   "outputs": [
    {
     "name": "stderr",
     "output_type": "stream",
     "text": [
      "                                                                                \r"
     ]
    },
    {
     "name": "stdout",
     "output_type": "stream",
     "text": [
      "+-----+--------------+------------------+--------------+------+---------+---------+-----+-----------------------+\n",
      "|appid|author_steamid|sentiment_score   |name          |genre |developer|publisher|price|label                  |\n",
      "+-----+--------------+------------------+--------------+------+---------+---------+-----+-----------------------+\n",
      "|10   |4885          |0.8847313172665581|Counter-Strike|Action|Valve    |Valve    |9.99 |Overwhelmingly Positive|\n",
      "|10   |16068         |0.8731704227545498|Counter-Strike|Action|Valve    |Valve    |9.99 |Overwhelmingly Positive|\n",
      "|10   |73141         |0.9042052339242086|Counter-Strike|Action|Valve    |Valve    |9.99 |Overwhelmingly Positive|\n",
      "|10   |125096        |0.8807123180475541|Counter-Strike|Action|Valve    |Valve    |9.99 |Overwhelmingly Positive|\n",
      "|10   |202012        |0.8555295814817651|Counter-Strike|Action|Valve    |Valve    |9.99 |Overwhelmingly Positive|\n",
      "+-----+--------------+------------------+--------------+------+---------+---------+-----+-----------------------+\n",
      "only showing top 5 rows\n",
      "\n"
     ]
    },
    {
     "name": "stderr",
     "output_type": "stream",
     "text": [
      "[Stage 17:>                                                         (0 + 1) / 1]\r"
     ]
    }
   ],
   "source": [
    "from pyspark.sql.functions import col\n",
    "\n",
    "# Divide the 'price' column by 100 to convert from integer to float\n",
    "reviews_info = reviews_info.withColumn(\"price\", col(\"price\") / 100.0)\n",
    "\n",
    "# Drop rows with null values\n",
    "reviews_info = reviews_info.dropna()\n",
    "\n",
    "# Show the updated DataFrame\n",
    "reviews_info.show(5, truncate=False)"
   ]
  },
  {
   "cell_type": "code",
   "execution_count": 21,
   "id": "ffafc0e8-dc42-47ed-acb6-791af4b8fb27",
   "metadata": {},
   "outputs": [
    {
     "name": "stdout",
     "output_type": "stream",
     "text": [
      "root\n",
      " |-- appid: integer (nullable = true)\n",
      " |-- author_steamid: integer (nullable = true)\n",
      " |-- sentiment_score: double (nullable = true)\n",
      " |-- name: string (nullable = true)\n",
      " |-- genre: string (nullable = false)\n",
      " |-- developer: string (nullable = true)\n",
      " |-- publisher: string (nullable = true)\n",
      " |-- price: double (nullable = true)\n",
      " |-- label: string (nullable = true)\n",
      "\n"
     ]
    }
   ],
   "source": [
    "reviews_info.printSchema()"
   ]
  },
  {
   "cell_type": "code",
   "execution_count": 23,
   "id": "208b86e3-2f8d-4208-a22d-fe97f0e3e493",
   "metadata": {},
   "outputs": [
    {
     "name": "stderr",
     "output_type": "stream",
     "text": [
      "[Stage 17:>                 (0 + 1) / 1][Stage 25:>                 (0 + 1) / 1]\r"
     ]
    },
    {
     "name": "stdout",
     "output_type": "stream",
     "text": [
      "+-------+-----------------+--------------------+------------------+----------------------+--------------+----------------------+----------------------+------------------+-------------+\n",
      "|summary|            appid|      author_steamid|   sentiment_score|                  name|         genre|             developer|             publisher|             price|        label|\n",
      "+-------+-----------------+--------------------+------------------+----------------------+--------------+----------------------+----------------------+------------------+-------------+\n",
      "|  count|         39884443|            39884443|          39884443|              39884443|      39884443|              39884443|              39884443|          39884443|     39884443|\n",
      "|   mean|559494.8683177298|3.8599857446956426E8|0.8627315401701823|     543.2030242935052|          null|     687.9829605963791|     3858.085599789778|17.407208234121047|         null|\n",
      "| stddev|481288.1428677972|4.1326023906429297E8|0.0522987591586619|     757.7436897206445|          null|     916.1800153926473|    440.00271244275143| 17.65441354252105|         null|\n",
      "|    min|               10|                   2|               0.0|  ! That Bastard Is...|        Action|  \"Aarne \"\"MekaSkul...|                (none)|               0.0|        Mixed|\n",
      "|    max|          2618840|          1608152432|               1.0|～Daydream～When bu...|Web Publishing|（Hong Kong）GKD Ga...|（Hong Kong）GKD Ga...|             299.9|Very Positive|\n",
      "+-------+-----------------+--------------------+------------------+----------------------+--------------+----------------------+----------------------+------------------+-------------+\n",
      "\n"
     ]
    },
    {
     "name": "stderr",
     "output_type": "stream",
     "text": [
      "[Stage 17:>                                                         (0 + 1) / 1]\r"
     ]
    }
   ],
   "source": [
    "reviews_info.describe().show()"
   ]
  },
  {
   "cell_type": "code",
   "execution_count": 24,
   "id": "74285a3e-2284-4d51-8270-72a903687cb6",
   "metadata": {},
   "outputs": [
    {
     "name": "stderr",
     "output_type": "stream",
     "text": [
      "                                                                                \r"
     ]
    },
    {
     "name": "stdout",
     "output_type": "stream",
     "text": [
      "Export successful!\n"
     ]
    }
   ],
   "source": [
    "# Save the filtered and cleaned DataFrame to GCS as a single CSV file\n",
    "#reviews_info.coalesce(1).write.csv(\n",
    "#    \"gs://msca-bdp-student-gcs/Group5/reviews_w_info\",\n",
    "#    header=True,\n",
    "#    mode=\"overwrite\"\n",
    "#)\n",
    "\n",
    "#print(\"Export successful!\")"
   ]
  },
  {
   "cell_type": "markdown",
   "id": "baa1e1d7-3ac9-4549-a662-d6aeb4c120ad",
   "metadata": {
    "jp-MarkdownHeadingCollapsed": true
   },
   "source": [
    "### Model Building"
   ]
  },
  {
   "cell_type": "code",
   "execution_count": 26,
   "id": "1f13fc34-6541-41ae-bed2-6d1a700b7c00",
   "metadata": {},
   "outputs": [
    {
     "name": "stderr",
     "output_type": "stream",
     "text": [
      "                                                                                \r"
     ]
    },
    {
     "data": {
      "text/plain": [
       "[Row(appid=10, author_steamid=4885, sentiment_score=0.8847313172665581, name='Counter-Strike', genre='Action', developer='Valve', publisher='Valve', price=9.99, label='Overwhelmingly Positive')]"
      ]
     },
     "execution_count": 26,
     "metadata": {},
     "output_type": "execute_result"
    }
   ],
   "source": [
    "from pyspark.sql import SparkSession\n",
    "\n",
    "# Initialize Spark session\n",
    "spark = SparkSession.builder.appName(\"GameRemmendation\").getOrCreate()\n",
    "\n",
    "# Load CSV files into DataFrames\n",
    "reviews_info = spark.read.csv(\"gs://msca-bdp-student-gcs/Group5/reviews_w_info/part-00000-4b308751-c8b9-44e1-8062-649a7203de14-c000.csv\", header=True, inferSchema=True)\n",
    "reviews_info.head(1)"
   ]
  },
  {
   "cell_type": "code",
   "execution_count": 29,
   "id": "b89796d4-4459-4815-b101-1116cc5a4dbb",
   "metadata": {},
   "outputs": [
    {
     "name": "stdout",
     "output_type": "stream",
     "text": [
      "+-----+--------------+------------------+--------------+------+---------+---------+-----+-----------------------+\n",
      "|appid|author_steamid|sentiment_score   |name          |genre |developer|publisher|price|label                  |\n",
      "+-----+--------------+------------------+--------------+------+---------+---------+-----+-----------------------+\n",
      "|10   |4885          |0.8847313172665581|Counter-Strike|Action|Valve    |Valve    |9.99 |Overwhelmingly Positive|\n",
      "|10   |16068         |0.8731704227545498|Counter-Strike|Action|Valve    |Valve    |9.99 |Overwhelmingly Positive|\n",
      "|10   |73141         |0.9042052339242086|Counter-Strike|Action|Valve    |Valve    |9.99 |Overwhelmingly Positive|\n",
      "|10   |125096        |0.8807123180475541|Counter-Strike|Action|Valve    |Valve    |9.99 |Overwhelmingly Positive|\n",
      "|10   |202012        |0.8555295814817651|Counter-Strike|Action|Valve    |Valve    |9.99 |Overwhelmingly Positive|\n",
      "+-----+--------------+------------------+--------------+------+---------+---------+-----+-----------------------+\n",
      "only showing top 5 rows\n",
      "\n"
     ]
    }
   ],
   "source": [
    "# Show the updated DataFrame\n",
    "reviews_info.show(5, truncate=False)"
   ]
  },
  {
   "cell_type": "code",
   "execution_count": 27,
   "id": "084af07e-fd5c-40fa-b1a3-1f80e9a1c62d",
   "metadata": {},
   "outputs": [
    {
     "name": "stdout",
     "output_type": "stream",
     "text": [
      "root\n",
      " |-- appid: integer (nullable = true)\n",
      " |-- author_steamid: integer (nullable = true)\n",
      " |-- sentiment_score: double (nullable = true)\n",
      " |-- name: string (nullable = true)\n",
      " |-- genre: string (nullable = true)\n",
      " |-- developer: string (nullable = true)\n",
      " |-- publisher: string (nullable = true)\n",
      " |-- price: double (nullable = true)\n",
      " |-- label: string (nullable = true)\n",
      "\n"
     ]
    }
   ],
   "source": [
    "reviews_info.printSchema()"
   ]
  },
  {
   "cell_type": "code",
   "execution_count": null,
   "id": "5c0cce4f-fc2a-4b54-8cac-75b9ab782bd9",
   "metadata": {},
   "outputs": [
    {
     "name": "stderr",
     "output_type": "stream",
     "text": [
      "[Stage 31:======================================================> (35 + 1) / 36]\r"
     ]
    },
    {
     "name": "stdout",
     "output_type": "stream",
     "text": [
      "+-------+-----------------+-------------------+-------------------+----------------------+--------------+----------------------+----------------------+------------------+-------------+\n",
      "|summary|            appid|     author_steamid|    sentiment_score|                  name|         genre|             developer|             publisher|             price|        label|\n",
      "+-------+-----------------+-------------------+-------------------+----------------------+--------------+----------------------+----------------------+------------------+-------------+\n",
      "|  count|         39884443|           39884443|           39884443|              39884443|      39884443|              39884443|              39884443|          39884443|     39884443|\n",
      "|   mean|559494.8683177298|3.859985744695644E8| 0.8627315401709978|     543.2030242935052|          null|     687.9829605963791|     3858.085599789778|17.407208233985035|         null|\n",
      "| stddev|481288.1428677959|4.132602390642919E8|0.05229875915866183|     757.7436897206444|          null|     916.1800153926474|     440.0027124427513| 17.65441354252102|         null|\n",
      "|    min|               10|                  2|                0.0|  ! That Bastard Is...|        Action|  \"Aarne \"\"MekaSkul...|                (none)|               0.0|        Mixed|\n",
      "|    max|          2618840|         1608152432|                1.0|～Daydream～When bu...|Web Publishing|（Hong Kong）GKD Ga...|（Hong Kong）GKD Ga...|             299.9|Very Positive|\n",
      "+-------+-----------------+-------------------+-------------------+----------------------+--------------+----------------------+----------------------+------------------+-------------+\n",
      "\n"
     ]
    },
    {
     "name": "stderr",
     "output_type": "stream",
     "text": [
      "                                                                                \r"
     ]
    }
   ],
   "source": [
    "reviews_info.describe().show()"
   ]
  },
  {
   "cell_type": "code",
   "execution_count": 30,
   "id": "eae46c98-2c01-4429-971e-8cd9e98c0484",
   "metadata": {},
   "outputs": [
    {
     "name": "stdout",
     "output_type": "stream",
     "text": [
      "+-----+--------------+------------------+\n",
      "|appid|author_steamid|sentiment_score   |\n",
      "+-----+--------------+------------------+\n",
      "|10   |4885          |0.8847313172665581|\n",
      "|10   |16068         |0.8731704227545498|\n",
      "|10   |73141         |0.9042052339242086|\n",
      "|10   |125096        |0.8807123180475541|\n",
      "|10   |202012        |0.8555295814817651|\n",
      "|10   |236498        |0.8737499209301924|\n",
      "|10   |279059        |0.866265366391876 |\n",
      "|10   |884484        |0.8593730529478136|\n",
      "|10   |886865        |0.8742503363379408|\n",
      "|10   |889070        |0.8730743843530598|\n",
      "+-----+--------------+------------------+\n",
      "only showing top 10 rows\n",
      "\n"
     ]
    }
   ],
   "source": [
    "from pyspark.sql.functions import col\n",
    "\n",
    "# Select only the required columns\n",
    "reviews_cf = reviews_info.select(\"appid\", \"author_steamid\", \"sentiment_score\")\n",
    "\n",
    "# Drop rows with null values in any of the selected columns\n",
    "reviews_cf = reviews_cf.dropna()\n",
    "\n",
    "# Show the first 10 rows to confirm\n",
    "reviews_cf.show(10, truncate=False)"
   ]
  },
  {
   "cell_type": "code",
   "execution_count": 31,
   "id": "59b0637f-36f4-4dca-a05d-e1bf28036f05",
   "metadata": {},
   "outputs": [
    {
     "name": "stdout",
     "output_type": "stream",
     "text": [
      "root\n",
      " |-- appid: integer (nullable = true)\n",
      " |-- author_steamid: integer (nullable = true)\n",
      " |-- sentiment_score: double (nullable = true)\n",
      "\n"
     ]
    }
   ],
   "source": [
    "reviews_cf.printSchema()"
   ]
  },
  {
   "cell_type": "code",
   "execution_count": 32,
   "id": "bf6a8e44-1034-48d1-bcfe-7fc947101c4b",
   "metadata": {},
   "outputs": [
    {
     "name": "stderr",
     "output_type": "stream",
     "text": [
      "[Stage 36:====================================================>   (34 + 2) / 36]\r"
     ]
    },
    {
     "name": "stdout",
     "output_type": "stream",
     "text": [
      "+-------+------------------+--------------------+-------------------+\n",
      "|summary|             appid|      author_steamid|    sentiment_score|\n",
      "+-------+------------------+--------------------+-------------------+\n",
      "|  count|          39884443|            39884443|           39884443|\n",
      "|   mean| 559494.8683177298|3.8599857446956444E8| 0.8627315401709981|\n",
      "| stddev|481288.14286779595| 4.132602390642917E8|0.05229875915866183|\n",
      "|    min|                10|                   2|                0.0|\n",
      "|    max|           2618840|          1608152432|                1.0|\n",
      "+-------+------------------+--------------------+-------------------+\n",
      "\n"
     ]
    },
    {
     "name": "stderr",
     "output_type": "stream",
     "text": [
      "                                                                                \r"
     ]
    }
   ],
   "source": [
    "reviews_cf.describe().show()"
   ]
  },
  {
   "cell_type": "code",
   "execution_count": 33,
   "id": "282c8c00-f8b3-4b4c-903d-ecf6320245c6",
   "metadata": {},
   "outputs": [],
   "source": [
    "from pyspark.ml.feature import StringIndexer\n",
    "from pyspark.ml.recommendation import ALS\n",
    "from pyspark.ml.evaluation import RegressionEvaluator\n",
    "from pyspark.sql.functions import col\n",
    "\n",
    "# Split the dataset into training and testing sets\n",
    "training, test = reviews_cf.randomSplit([0.8, 0.2])"
   ]
  },
  {
   "cell_type": "code",
   "execution_count": 34,
   "id": "4fe89b37-deea-45cd-9312-7c366d376ec7",
   "metadata": {},
   "outputs": [
    {
     "name": "stderr",
     "output_type": "stream",
     "text": [
      "                                                                                \r"
     ]
    }
   ],
   "source": [
    "# Build the ALS model\n",
    "als = ALS(\n",
    "    maxIter=10,\n",
    "    regParam=0.01,\n",
    "    rank=10,\n",
    "    userCol=\"author_steamid\",\n",
    "    itemCol=\"appid\",\n",
    "    ratingCol=\"sentiment_score\",\n",
    "    coldStartStrategy=\"drop\",\n",
    "    nonnegative=True\n",
    ")\n",
    "\n",
    "# Fit the ALS model on the training data\n",
    "model = als.fit(training)"
   ]
  },
  {
   "cell_type": "code",
   "execution_count": 35,
   "id": "c08abb9d-163a-46ef-9739-0c56ecaeda07",
   "metadata": {},
   "outputs": [],
   "source": [
    "# Generate predictions on the test data\n",
    "predictions = model.transform(test)"
   ]
  },
  {
   "cell_type": "code",
   "execution_count": 36,
   "id": "75e7932a-5f3b-4f2c-afc6-434604b43484",
   "metadata": {},
   "outputs": [
    {
     "data": {
      "text/plain": [
       "\"blockSize: block size for stacking input data in matrices. Data is stacked within partitions. If block size is more than remaining data in a partition then it is adjusted to the size of this data. (default: 4096)\\ncoldStartStrategy: strategy for dealing with unknown or new users/items at prediction time. This may be useful in cross-validation or production scenarios, for handling user/item ids the model has not seen in the training data. Supported values: 'nan', 'drop'. (default: nan, current: drop)\\nitemCol: column name for item ids. Ids must be within the integer value range. (default: item, current: appid)\\npredictionCol: prediction column name. (default: prediction)\\nuserCol: column name for user ids. Ids must be within the integer value range. (default: user, current: author_steamid)\""
      ]
     },
     "execution_count": 36,
     "metadata": {},
     "output_type": "execute_result"
    }
   ],
   "source": [
    "#explain parameters of the model\n",
    "model.explainParams()"
   ]
  },
  {
   "cell_type": "code",
   "execution_count": 37,
   "id": "21754662-89bb-46b7-ae11-a7215fbcc300",
   "metadata": {},
   "outputs": [
    {
     "name": "stdout",
     "output_type": "stream",
     "text": [
      "+---+--------------------------------------------------------------------------------------------------------------------------+\n",
      "|id |features                                                                                                                  |\n",
      "+---+--------------------------------------------------------------------------------------------------------------------------+\n",
      "|10 |[0.54195374, 0.13589714, 7.7461294E-4, 0.29960793, 0.0032619457, 0.27553084, 0.34697375, 5.268064E-4, 0.0, 0.011878433]   |\n",
      "|20 |[0.31986937, 0.27253136, 0.0784746, 0.16628264, 0.009966973, 0.255988, 0.14212343, 0.23479694, 0.16091265, 0.008302208]   |\n",
      "|30 |[0.3144448, 0.27869168, 0.096934624, 0.19748399, 0.058678612, 0.21371606, 0.13882087, 0.2386709, 0.14194591, 0.03952991]  |\n",
      "|40 |[0.33535728, 0.25705478, 0.022033771, 0.1582301, 0.049704958, 0.24369459, 0.13425945, 0.2335789, 0.18554185, 0.03205029]  |\n",
      "|50 |[0.2827807, 0.31245115, 0.08568611, 0.18937051, 0.025409183, 0.18928935, 0.19448572, 0.20746818, 0.18297221, 0.02514736]  |\n",
      "|60 |[0.3266032, 0.27079183, 0.12234126, 0.13666327, 0.09998533, 0.22420669, 0.16219212, 0.19775307, 0.1801736, 0.035550725]   |\n",
      "|70 |[0.33249927, 0.37493852, 0.02237838, 0.17266205, 0.014884622, 0.19607274, 0.1449585, 0.21117212, 0.100621045, 0.011806999]|\n",
      "|80 |[0.3039761, 0.26010668, 0.06671382, 0.18211596, 0.016021615, 0.23255815, 0.16804494, 0.24540558, 0.16790646, 0.061742116] |\n",
      "|130|[0.30659986, 0.27362725, 0.07140075, 0.16959305, 0.06235055, 0.22719947, 0.17558838, 0.226024, 0.17715791, 0.0186573]     |\n",
      "|220|[0.39322802, 0.28511158, 0.028343225, 0.19904663, 0.01904047, 0.15856801, 0.29141146, 0.17655635, 0.06393026, 0.017743962]|\n",
      "+---+--------------------------------------------------------------------------------------------------------------------------+\n",
      "only showing top 10 rows\n",
      "\n"
     ]
    }
   ],
   "source": [
    "#item factors \n",
    "model.itemFactors.show(10, truncate = False)"
   ]
  },
  {
   "cell_type": "code",
   "execution_count": 38,
   "id": "dff8982b-60a9-4cbe-b083-79bb57a868f6",
   "metadata": {},
   "outputs": [
    {
     "name": "stderr",
     "output_type": "stream",
     "text": [
      "                                                                                \r"
     ]
    },
    {
     "name": "stdout",
     "output_type": "stream",
     "text": [
      "Root Mean Squared Error (RMSE): 0.13005772918622382\n"
     ]
    },
    {
     "name": "stderr",
     "output_type": "stream",
     "text": [
      "[Stage 171:=====================================================> (35 + 1) / 36]\r"
     ]
    },
    {
     "name": "stdout",
     "output_type": "stream",
     "text": [
      "+--------------+-------+------------------+----------+\n",
      "|author_steamid|appid  |sentiment_score   |prediction|\n",
      "+--------------+-------+------------------+----------+\n",
      "|53            |493340 |0.7068436432937024|0.4807135 |\n",
      "|53            |223850 |0.7072537158776404|0.4672202 |\n",
      "|497           |1086940|0.8833215936956873|0.8794167 |\n",
      "|497           |440    |0.87946853988706  |0.6473543 |\n",
      "|497           |224760 |0.8120242710560317|0.76103824|\n",
      "|2079          |578080 |0.8752413696936361|0.6893583 |\n",
      "|3306          |730    |0.8709374734343704|0.86499023|\n",
      "|3306          |671860 |0.874807910863581 |0.78267103|\n",
      "|3436          |363970 |0.840316941956014 |0.7928872 |\n",
      "|3485          |1556870|0.825365543955509 |0.78041875|\n",
      "+--------------+-------+------------------+----------+\n",
      "only showing top 10 rows\n",
      "\n"
     ]
    },
    {
     "name": "stderr",
     "output_type": "stream",
     "text": [
      "                                                                                \r"
     ]
    }
   ],
   "source": [
    "# Evaluate the model using RMSE\n",
    "evaluator = RegressionEvaluator(\n",
    "    metricName=\"rmse\",\n",
    "    labelCol=\"sentiment_score\",\n",
    "    predictionCol=\"prediction\"\n",
    ")\n",
    "rmse = evaluator.evaluate(predictions)\n",
    "print(f\"Root Mean Squared Error (RMSE): {rmse}\")\n",
    "\n",
    "# Display some predictions for inspection\n",
    "predictions.select(\"author_steamid\", \"appid\", \"sentiment_score\", \"prediction\").show(10, truncate=False)"
   ]
  },
  {
   "cell_type": "markdown",
   "id": "98f04995-1de3-4d03-91ff-687d5994ab7d",
   "metadata": {},
   "source": [
    "The RMSE of 0.13 suggests the model's predictions are generally within ±0.13 of the actual sentiment scores, on average."
   ]
  },
  {
   "cell_type": "code",
   "execution_count": 39,
   "id": "b013418a-697d-466a-909e-8e26244f6c42",
   "metadata": {},
   "outputs": [
    {
     "name": "stdout",
     "output_type": "stream",
     "text": [
      "root\n",
      " |-- appid: integer (nullable = true)\n",
      " |-- author_steamid: integer (nullable = true)\n",
      " |-- sentiment_score: double (nullable = true)\n",
      " |-- prediction: float (nullable = false)\n",
      "\n"
     ]
    }
   ],
   "source": [
    "predictions.printSchema()"
   ]
  },
  {
   "cell_type": "code",
   "execution_count": 40,
   "id": "0adc11db-b09e-40ab-b189-0e2ce9b3b406",
   "metadata": {},
   "outputs": [
    {
     "name": "stdout",
     "output_type": "stream",
     "text": [
      "root\n",
      " |-- appid: integer (nullable = true)\n",
      " |-- author_steamid: integer (nullable = true)\n",
      " |-- sentiment_score: double (nullable = true)\n",
      " |-- name: string (nullable = true)\n",
      " |-- genre: string (nullable = true)\n",
      " |-- developer: string (nullable = true)\n",
      " |-- publisher: string (nullable = true)\n",
      " |-- price: double (nullable = true)\n",
      " |-- label: string (nullable = true)\n",
      "\n"
     ]
    }
   ],
   "source": [
    "reviews_info.printSchema()"
   ]
  },
  {
   "cell_type": "code",
   "execution_count": 47,
   "id": "b0692e02-02b0-4216-8240-ab002ff74214",
   "metadata": {},
   "outputs": [
    {
     "name": "stdout",
     "output_type": "stream",
     "text": [
      "root\n",
      " |-- appid: integer (nullable = true)\n",
      " |-- name: string (nullable = true)\n",
      " |-- genre: string (nullable = true)\n",
      " |-- developer: string (nullable = true)\n",
      " |-- publisher: string (nullable = true)\n",
      " |-- price: double (nullable = true)\n",
      " |-- label: string (nullable = true)\n",
      "\n"
     ]
    }
   ],
   "source": [
    "games_info = reviews_info.drop('author_steamid', 'sentiment_score')\n",
    "games_info.printSchema()"
   ]
  },
  {
   "cell_type": "code",
   "execution_count": 48,
   "id": "de544371-ef56-473e-860b-f6ce66ebc309",
   "metadata": {},
   "outputs": [
    {
     "name": "stderr",
     "output_type": "stream",
     "text": [
      "[Stage 727:>                                                        (0 + 1) / 1]\r"
     ]
    },
    {
     "name": "stdout",
     "output_type": "stream",
     "text": [
      "+-----+--------------+------------------+----------+-----------+-----+--------------+--------------+-----+-------------+\n",
      "|appid|author_steamid|sentiment_score   |prediction|name       |genre|developer     |publisher     |price|label        |\n",
      "+-----+--------------+------------------+----------+-----------+-----+--------------+--------------+-----+-------------+\n",
      "|1700 |4398690       |0.8295306347677494|0.7715237 |Arx Fatalis|RPG  |Arkane Studios|Arkane Studios|4.99 |Very Positive|\n",
      "|1700 |41696944      |0.7844690368846943|0.8328918 |Arx Fatalis|RPG  |Arkane Studios|Arkane Studios|4.99 |Very Positive|\n",
      "|1700 |44089998      |0.7998424761455951|0.7946886 |Arx Fatalis|RPG  |Arkane Studios|Arkane Studios|4.99 |Very Positive|\n",
      "|1700 |88082942      |0.7087531905029538|0.76503265|Arx Fatalis|RPG  |Arkane Studios|Arkane Studios|4.99 |Very Positive|\n",
      "|1700 |107062795     |0.7910992547491337|0.7969639 |Arx Fatalis|RPG  |Arkane Studios|Arkane Studios|4.99 |Very Positive|\n",
      "+-----+--------------+------------------+----------+-----------+-----+--------------+--------------+-----+-------------+\n",
      "only showing top 5 rows\n",
      "\n"
     ]
    },
    {
     "name": "stderr",
     "output_type": "stream",
     "text": [
      "                                                                                \r"
     ]
    }
   ],
   "source": [
    "from pyspark.sql.functions import col\n",
    "\n",
    "# Ensure 'games_info' has unique appid\n",
    "games_info_unique = games_info.dropDuplicates([\"appid\"])\n",
    "\n",
    "# Perform the left join between recommendation and games_info on 'appid'\n",
    "recommendation = predictions.join(games_info_unique, \"appid\", \"left\")\n",
    "\n",
    "# Drop duplicate 'appid' column\n",
    "# recommendation = recommendation.drop(games_info.appid)\n",
    "\n",
    "# Remove duplicate rows from the result\n",
    "recommendation = recommendation.dropDuplicates()\n",
    "\n",
    "# Show the results to verify\n",
    "recommendation.show(5, truncate=False)"
   ]
  },
  {
   "cell_type": "code",
   "execution_count": 49,
   "id": "9df36587-dff0-474f-a563-7ae5d32ad59f",
   "metadata": {},
   "outputs": [
    {
     "name": "stdout",
     "output_type": "stream",
     "text": [
      "root\n",
      " |-- appid: integer (nullable = true)\n",
      " |-- author_steamid: integer (nullable = true)\n",
      " |-- sentiment_score: double (nullable = true)\n",
      " |-- prediction: float (nullable = false)\n",
      " |-- name: string (nullable = true)\n",
      " |-- genre: string (nullable = true)\n",
      " |-- developer: string (nullable = true)\n",
      " |-- publisher: string (nullable = true)\n",
      " |-- price: double (nullable = true)\n",
      " |-- label: string (nullable = true)\n",
      "\n"
     ]
    }
   ],
   "source": [
    "recommendation.printSchema()"
   ]
  },
  {
   "cell_type": "code",
   "execution_count": 50,
   "id": "93606810-431a-4ca9-8be4-ac0097f30cec",
   "metadata": {},
   "outputs": [
    {
     "name": "stderr",
     "output_type": "stream",
     "text": [
      "[Stage 810:===================================================>   (16 + 1) / 17]\r"
     ]
    },
    {
     "name": "stdout",
     "output_type": "stream",
     "text": [
      "+-------+------------------+--------------------+-------------------+-------------------+----------------------+--------------+----------------------+----------------------+------------------+-------------+\n",
      "|summary|             appid|      author_steamid|    sentiment_score|         prediction|                  name|         genre|             developer|             publisher|             price|        label|\n",
      "+-------+------------------+--------------------+-------------------+-------------------+----------------------+--------------+----------------------+----------------------+------------------+-------------+\n",
      "|  count|           6280272|             6280272|            6280272|            6280272|               6280272|       6280272|               6280272|               6280272|           6280272|      6280272|\n",
      "|   mean| 569388.7875490106|3.5155200036015224E8| 0.8613844942969497| 0.7893914995778923|     545.3015427769986|          null|                691.44|    3859.6374284226963| 17.68149964056167|         null|\n",
      "| stddev|477526.93409425905| 3.897821753389123E8|0.05521122834155392|0.09796724241494564|     760.6310491513015|          null|     921.5175438504473|    430.82614472182036|17.446047660871717|         null|\n",
      "|    min|                10|                  50|                0.0|                0.0|  ! That Bastard Is...|        Action|  \"Aarne \"\"MekaSkul...|                (none)|               0.0|        Mixed|\n",
      "|    max|           2618840|          1606809946|                1.0|          1.5555452|～Daydream～When bu...|Web Publishing|（Hong Kong）GKD Ga...|（Hong Kong）GKD Ga...|             299.9|Very Positive|\n",
      "+-------+------------------+--------------------+-------------------+-------------------+----------------------+--------------+----------------------+----------------------+------------------+-------------+\n",
      "\n"
     ]
    },
    {
     "name": "stderr",
     "output_type": "stream",
     "text": [
      "                                                                                \r"
     ]
    }
   ],
   "source": [
    "recommendation.describe().show()"
   ]
  },
  {
   "cell_type": "markdown",
   "id": "d9737f28-0394-4d5e-9b60-c9663779dfbe",
   "metadata": {
    "jp-MarkdownHeadingCollapsed": true
   },
   "source": [
    "### Prediction - Application"
   ]
  },
  {
   "cell_type": "code",
   "execution_count": 52,
   "id": "eb0a4fa5-479f-470a-b902-4fcb02a4d5e7",
   "metadata": {},
   "outputs": [
    {
     "name": "stderr",
     "output_type": "stream",
     "text": [
      "                                                                                \r"
     ]
    },
    {
     "name": "stdout",
     "output_type": "stream",
     "text": [
      "+--------------+------------------------------------------------------------------------------------------------------------+\n",
      "|author_steamid|recommendations                                                                                             |\n",
      "+--------------+------------------------------------------------------------------------------------------------------------+\n",
      "|4398690       |[{2129020, 1.6654224}, {2251240, 1.6357807}, {2079950, 1.6010736}, {1945230, 1.5943185}, {836640, 1.473071}]|\n",
      "+--------------+------------------------------------------------------------------------------------------------------------+\n",
      "\n"
     ]
    }
   ],
   "source": [
    "# Specify the user for whom you want to generate recommendations\n",
    "specific_user = 4398690  # Replace with the actual user ID\n",
    "\n",
    "# Create a DataFrame for the specific user\n",
    "specific_user_df = recommendation.filter(recommendation.author_steamid == specific_user).select(\"author_steamid\").distinct()\n",
    "\n",
    "# Generate recommendations for the specific user\n",
    "userRecs = model.recommendForUserSubset(specific_user_df, 5)\n",
    "\n",
    "# Show the recommendations\n",
    "userRecs.show(truncate=False)"
   ]
  },
  {
   "cell_type": "code",
   "execution_count": 53,
   "id": "c9642380-92dd-40d4-a599-b8d4ee7eddd6",
   "metadata": {},
   "outputs": [
    {
     "name": "stdout",
     "output_type": "stream",
     "text": [
      "root\n",
      " |-- author_steamid: integer (nullable = false)\n",
      " |-- recommendations: array (nullable = true)\n",
      " |    |-- element: struct (containsNull = true)\n",
      " |    |    |-- appid: integer (nullable = true)\n",
      " |    |    |-- rating: float (nullable = true)\n",
      "\n",
      "root\n",
      " |-- appid: integer (nullable = true)\n",
      " |-- name: string (nullable = true)\n",
      " |-- genre: string (nullable = false)\n",
      " |-- developer: string (nullable = true)\n",
      " |-- publisher: string (nullable = true)\n",
      " |-- price: integer (nullable = true)\n",
      " |-- label: string (nullable = true)\n",
      "\n"
     ]
    }
   ],
   "source": [
    "# Drop the last column of the DataFrame\n",
    "#userRecs = userRecs.drop(userRecs.columns[-1])\n",
    "\n",
    "# Show the result to confirm\n",
    "userRecs.printSchema()\n",
    "games.printSchema()"
   ]
  },
  {
   "cell_type": "code",
   "execution_count": 55,
   "id": "faee50c2-afe2-4a80-9691-268138c6fd5c",
   "metadata": {},
   "outputs": [
    {
     "name": "stderr",
     "output_type": "stream",
     "text": [
      "                                                                                \r"
     ]
    },
    {
     "data": {
      "text/plain": [
       "[Row(author_steamid=4398690, recommendations=[Row(appid=2129020, rating=1.6654224395751953), Row(appid=2251240, rating=1.635780692100525), Row(appid=2079950, rating=1.6010736227035522), Row(appid=1945230, rating=1.5943185091018677), Row(appid=836640, rating=1.4730709791183472)])]"
      ]
     },
     "execution_count": 55,
     "metadata": {},
     "output_type": "execute_result"
    }
   ],
   "source": [
    "userRecs.head(1)"
   ]
  },
  {
   "cell_type": "code",
   "execution_count": 58,
   "id": "e19b3d69-16e5-4a6c-8327-fe4474b4e0c8",
   "metadata": {},
   "outputs": [
    {
     "name": "stderr",
     "output_type": "stream",
     "text": [
      "                                                                                \r"
     ]
    },
    {
     "name": "stdout",
     "output_type": "stream",
     "text": [
      "+-------+--------------+---------+---------------------------------------------+---------+------------------------------+------------------------------+-----+-------------+\n",
      "|appid  |author_steamid|rating   |name                                         |genre    |developer                     |publisher                     |price|label        |\n",
      "+-------+--------------+---------+---------------------------------------------+---------+------------------------------+------------------------------+-----+-------------+\n",
      "|2129020|4398690       |1.6654224|Last Christmas                               |Adventure|polytely games                |polytely games                |4.99 |Positive     |\n",
      "|2251240|4398690       |1.6357807|Police Car Simulator                         |Action   |Yusuf Islam Seyhan, Samet Acar|Inspector Studios             |0.99 |Negative     |\n",
      "|1945230|4398690       |1.5943185|Diablo The Abyss                             |Adventure|Friday Night                  |Friday Night                  |7.99 |Very Positive|\n",
      "|836640 |4398690       |1.473071 |寄居隅怪奇事件簿 Hermitage Strange Case Files|Indie    |Arrowiz                       |Arrowiz                       |2.99 |Very Positive|\n",
      "|2079950|4398690       |1.6010736|Filthy us 2                                  |Adventure|Game Logic Studio             |Game Logic Studio, Paras Games|8.99 |Very Positive|\n",
      "+-------+--------------+---------+---------------------------------------------+---------+------------------------------+------------------------------+-----+-------------+\n",
      "\n"
     ]
    }
   ],
   "source": [
    "from pyspark.sql.functions import col, explode\n",
    "\n",
    "# Explode the recommendations into separate rows\n",
    "exploded_user_recs = userRecs.withColumn(\"recommendation\", explode(col(\"recommendations\")))\n",
    "\n",
    "# Extract appid and rating from recommendations\n",
    "exploded_user_recs = exploded_user_recs.select(\n",
    "    col(\"author_steamid\"),\n",
    "    col(\"recommendation.appid\").alias(\"appid\"),\n",
    "    col(\"recommendation.rating\").alias(\"rating\")\n",
    ")\n",
    "\n",
    "# Join with the games DataFrame to enrich the recommendations\n",
    "enriched_recs = exploded_user_recs.join(games_info_unique, \"appid\", \"left\")\n",
    "\n",
    "# Filter to include only the specific user\n",
    "user_4398690_recs = enriched_recs.filter(col(\"author_steamid\") == specific_user)\n",
    "\n",
    "# Show the enriched recommendations for the specific user\n",
    "user_4398690_recs.show(truncate=False)"
   ]
  },
  {
   "cell_type": "code",
   "execution_count": 73,
   "id": "d8e90203-dd0c-4ed6-babb-ccd174e934bc",
   "metadata": {},
   "outputs": [
    {
     "name": "stderr",
     "output_type": "stream",
     "text": [
      "[Stage 3357:>                                                       (0 + 1) / 1]\r"
     ]
    },
    {
     "name": "stdout",
     "output_type": "stream",
     "text": [
      "+-----+--------------+------------------+----------+\n",
      "|appid|author_steamid|sentiment_score   |prediction|\n",
      "+-----+--------------+------------------+----------+\n",
      "|10   |140541        |0.8802974486831863|0.38343713|\n",
      "|10   |239548        |0.8731478197915625|0.856684  |\n",
      "|10   |285169        |0.8869327207951649|0.75947124|\n",
      "|10   |388847        |0.8745790167584548|0.38438275|\n",
      "|10   |418167        |0.8775252911171331|0.8435322 |\n",
      "|10   |828691        |0.8301549389535384|0.91713804|\n",
      "|10   |882285        |0.8738930130709596|0.7926611 |\n",
      "|10   |913290        |0.8807447585488885|0.76276624|\n",
      "|10   |928290        |0.8696314853142184|0.820919  |\n",
      "|10   |1783852       |0.8765157041511878|0.6533298 |\n",
      "|10   |2088738       |0.8902188776002593|0.40487254|\n",
      "|10   |2533840       |0.8825222927104017|0.5615467 |\n",
      "|10   |3201861       |0.8451422727573333|0.811101  |\n",
      "|10   |3505217       |0.87367558412711  |0.8496253 |\n",
      "|10   |4075465       |0.87367558412711  |0.3818016 |\n",
      "|10   |4088452       |0.8679660120935957|0.7348419 |\n",
      "|10   |4088939       |0.8872822531851452|0.78104347|\n",
      "|10   |5018982       |0.8723502595251048|0.85186225|\n",
      "|10   |5762742       |0.8825222927104017|0.7222094 |\n",
      "|10   |6167676       |0.8697095719345649|0.85523224|\n",
      "+-----+--------------+------------------+----------+\n",
      "only showing top 20 rows\n",
      "\n"
     ]
    },
    {
     "name": "stderr",
     "output_type": "stream",
     "text": [
      "                                                                                \r"
     ]
    }
   ],
   "source": [
    "predictions.filter(col(\"appid\") == 10).show(truncate=False)"
   ]
  },
  {
   "cell_type": "code",
   "execution_count": 74,
   "id": "01b6ef23-f9cb-4a5e-91f0-9811c1f2a4e6",
   "metadata": {},
   "outputs": [
    {
     "name": "stderr",
     "output_type": "stream",
     "text": [
      "[Stage 3466:===========================>                           (5 + 5) / 10]\r"
     ]
    },
    {
     "name": "stdout",
     "output_type": "stream",
     "text": [
      "+-----+----------------------------------------------------------------------------------------------------------------------+\n",
      "|appid|recommendations                                                                                                       |\n",
      "+-----+----------------------------------------------------------------------------------------------------------------------+\n",
      "|10   |[{114728254, 1.2838367}, {67385174, 1.2818373}, {184253085, 1.2620038}, {202668955, 1.2540469}, {90491259, 1.2472687}]|\n",
      "+-----+----------------------------------------------------------------------------------------------------------------------+\n",
      "\n"
     ]
    },
    {
     "name": "stderr",
     "output_type": "stream",
     "text": [
      "                                                                                \r"
     ]
    }
   ],
   "source": [
    "from pyspark.sql.functions import col, explode\n",
    "\n",
    "# Specify the game for which you want to recommend users\n",
    "specific_game = 10  # Replace with the actual game appid\n",
    "\n",
    "# Create a DataFrame for the specific game\n",
    "specific_game_df = recommendation.filter(recommendation.appid == specific_game).select(\"appid\").distinct()\n",
    "\n",
    "# Generate recommendations for the specific game\n",
    "gameRecs = model.recommendForItemSubset(specific_game_df, 5)\n",
    "\n",
    "# Show the recommendations\n",
    "gameRecs.show(truncate=False)"
   ]
  },
  {
   "cell_type": "code",
   "execution_count": 77,
   "id": "c25349dc-fc74-4ca3-bb80-94e4372c5d23",
   "metadata": {},
   "outputs": [
    {
     "name": "stdout",
     "output_type": "stream",
     "text": [
      "root\n",
      " |-- appid: integer (nullable = false)\n",
      " |-- recommendations: array (nullable = true)\n",
      " |    |-- element: struct (containsNull = true)\n",
      " |    |    |-- author_steamid: integer (nullable = true)\n",
      " |    |    |-- rating: float (nullable = true)\n",
      " |-- recommendation: struct (nullable = true)\n",
      " |    |-- author_steamid: integer (nullable = true)\n",
      " |    |-- rating: float (nullable = true)\n",
      "\n"
     ]
    },
    {
     "name": "stderr",
     "output_type": "stream",
     "text": [
      "                                                                                \r"
     ]
    },
    {
     "name": "stdout",
     "output_type": "stream",
     "text": [
      "+-----+--------------+---------+--------------+------+---------+---------+-----+-----------------------+\n",
      "|appid|author_steamid|rating   |name          |genre |developer|publisher|price|label                  |\n",
      "+-----+--------------+---------+--------------+------+---------+---------+-----+-----------------------+\n",
      "|10   |114728254     |1.2838367|Counter-Strike|Action|Valve    |Valve    |9.99 |Overwhelmingly Positive|\n",
      "|10   |67385174      |1.2818373|Counter-Strike|Action|Valve    |Valve    |9.99 |Overwhelmingly Positive|\n",
      "|10   |184253085     |1.2620038|Counter-Strike|Action|Valve    |Valve    |9.99 |Overwhelmingly Positive|\n",
      "|10   |202668955     |1.2540469|Counter-Strike|Action|Valve    |Valve    |9.99 |Overwhelmingly Positive|\n",
      "|10   |90491259      |1.2472687|Counter-Strike|Action|Valve    |Valve    |9.99 |Overwhelmingly Positive|\n",
      "+-----+--------------+---------+--------------+------+---------+---------+-----+-----------------------+\n",
      "\n"
     ]
    }
   ],
   "source": [
    "from pyspark.sql.functions import col, explode\n",
    "\n",
    "# Explode the recommendations into separate rows\n",
    "exploded_game_recs = gameRecs.withColumn(\"recommendation\", explode(col(\"recommendations\")))\n",
    "\n",
    "# Inspect schema to confirm the correct fields\n",
    "exploded_game_recs.printSchema()\n",
    "\n",
    "# Extract author_steamid and rating from recommendations (update field names based on schema)\n",
    "exploded_game_recs = exploded_game_recs.select(\n",
    "    col(\"appid\"),\n",
    "    col(\"recommendation.author_steamid\").alias(\"author_steamid\"),  # Use correct field\n",
    "    col(\"recommendation.rating\").alias(\"rating\")\n",
    ")\n",
    "\n",
    "# Join with the games DataFrame to enrich the recommendations (optional)\n",
    "enriched_game_recs = exploded_game_recs.join(games_info_unique, \"appid\", \"left\")\n",
    "\n",
    "# Filter for the specific game\n",
    "game_10_recs = enriched_game_recs.filter(col(\"appid\") == specific_game)\n",
    "\n",
    "# Show the top 5 users for the specific game\n",
    "game_10_recs.show(truncate=False)"
   ]
  },
  {
   "cell_type": "code",
   "execution_count": 83,
   "id": "629a4e67-c3f1-4da0-ad6b-a355a0891256",
   "metadata": {},
   "outputs": [
    {
     "name": "stderr",
     "output_type": "stream",
     "text": [
      "[Stage 4733:================================================>    (92 + 5) / 100]\r"
     ]
    },
    {
     "name": "stdout",
     "output_type": "stream",
     "text": [
      "+--------------+------------------------------------------------------------------------------------------------------------+\n",
      "|author_steamid|recommendations                                                                                             |\n",
      "+--------------+------------------------------------------------------------------------------------------------------------+\n",
      "|51362428      |[{2251240, 1.7431304}, {2129020, 1.670718}, {2079950, 1.6682618}, {836640, 1.5459373}, {1945230, 1.4979694}]|\n",
      "|10620100      |[{1945230, 1.8276551}, {2251240, 1.6629995}, {836640, 1.6355375}, {2129020, 1.6316975}, {709060, 1.5780795}]|\n",
      "|9867023       |[{2129020, 1.7035441}, {2251240, 1.6600416}, {2079950, 1.6236326}, {1945230, 1.56118}, {836640, 1.5605195}] |\n",
      "+--------------+------------------------------------------------------------------------------------------------------------+\n",
      "\n"
     ]
    },
    {
     "name": "stderr",
     "output_type": "stream",
     "text": [
      "                                                                                \r"
     ]
    }
   ],
   "source": [
    "# Select a subset of users (limit to 3 for simplicity)\n",
    "users = recommendation.select(\"author_steamid\").distinct().limit(3)\n",
    "\n",
    "# Generate recommendations for the selected users\n",
    "userSubsetRecs = model.recommendForUserSubset(users, 5)\n",
    "\n",
    "# Display recommendations\n",
    "userSubsetRecs.show(5, truncate=False)"
   ]
  },
  {
   "cell_type": "code",
   "execution_count": 84,
   "id": "065bd61b-f4d5-4a4a-ac0f-68c598eddf77",
   "metadata": {},
   "outputs": [
    {
     "name": "stderr",
     "output_type": "stream",
     "text": [
      "[Stage 4924:===================================================> (97 + 3) / 100]\r"
     ]
    },
    {
     "name": "stdout",
     "output_type": "stream",
     "text": [
      "+-------+--------------+---------+---------------------------------------------+---------+------------------------------+------------------------------+-----+-------------+\n",
      "|appid  |author_steamid|rating   |name                                         |genre    |developer                     |publisher                     |price|label        |\n",
      "+-------+--------------+---------+---------------------------------------------+---------+------------------------------+------------------------------+-----+-------------+\n",
      "|2251240|28083380      |1.7208892|Police Car Simulator                         |Action   |Yusuf Islam Seyhan, Samet Acar|Inspector Studios             |0.99 |Negative     |\n",
      "|2129020|28083380      |1.6844431|Last Christmas                               |Adventure|polytely games                |polytely games                |4.99 |Positive     |\n",
      "|2079950|28083380      |1.6583772|Filthy us 2                                  |Adventure|Game Logic Studio             |Game Logic Studio, Paras Games|8.99 |Very Positive|\n",
      "|1945230|28083380      |1.6318277|Diablo The Abyss                             |Adventure|Friday Night                  |Friday Night                  |7.99 |Very Positive|\n",
      "|836640 |28083380      |1.5361326|寄居隅怪奇事件簿 Hermitage Strange Case Files|Indie    |Arrowiz                       |Arrowiz                       |2.99 |Very Positive|\n",
      "|1945230|106830864     |1.7733693|Diablo The Abyss                             |Adventure|Friday Night                  |Friday Night                  |7.99 |Very Positive|\n",
      "|2079950|106830864     |1.5672873|Filthy us 2                                  |Adventure|Game Logic Studio             |Game Logic Studio, Paras Games|8.99 |Very Positive|\n",
      "|2251240|106830864     |1.5585499|Police Car Simulator                         |Action   |Yusuf Islam Seyhan, Samet Acar|Inspector Studios             |0.99 |Negative     |\n",
      "|836640 |106830864     |1.5550306|寄居隅怪奇事件簿 Hermitage Strange Case Files|Indie    |Arrowiz                       |Arrowiz                       |2.99 |Very Positive|\n",
      "|2129020|106830864     |1.548003 |Last Christmas                               |Adventure|polytely games                |polytely games                |4.99 |Positive     |\n",
      "|2251240|158307703     |1.830059 |Police Car Simulator                         |Action   |Yusuf Islam Seyhan, Samet Acar|Inspector Studios             |0.99 |Negative     |\n",
      "|2079950|158307703     |1.6952199|Filthy us 2                                  |Adventure|Game Logic Studio             |Game Logic Studio, Paras Games|8.99 |Very Positive|\n",
      "|1945230|158307703     |1.6579254|Diablo The Abyss                             |Adventure|Friday Night                  |Friday Night                  |7.99 |Very Positive|\n",
      "|2129020|158307703     |1.6408951|Last Christmas                               |Adventure|polytely games                |polytely games                |4.99 |Positive     |\n",
      "|836640 |158307703     |1.4884634|寄居隅怪奇事件簿 Hermitage Strange Case Files|Indie    |Arrowiz                       |Arrowiz                       |2.99 |Very Positive|\n",
      "+-------+--------------+---------+---------------------------------------------+---------+------------------------------+------------------------------+-----+-------------+\n",
      "\n"
     ]
    },
    {
     "name": "stderr",
     "output_type": "stream",
     "text": [
      "                                                                                \r"
     ]
    }
   ],
   "source": [
    "from pyspark.sql.functions import col, explode\n",
    "\n",
    "# Explode the recommendations into separate rows\n",
    "exploded_user_recs = userSubsetRecs.withColumn(\"recommendation\", explode(col(\"recommendations\")))\n",
    "\n",
    "# Extract appid and rating from recommendations\n",
    "exploded_user_recs = exploded_user_recs.select(\n",
    "    col(\"author_steamid\"),\n",
    "    col(\"recommendation.appid\").alias(\"appid\"),\n",
    "    col(\"recommendation.rating\").alias(\"rating\")\n",
    ")\n",
    "\n",
    "# Join with games_info_unique to include detailed information\n",
    "detailed_user_recs = exploded_user_recs.join(games_info_unique, \"appid\", \"left\")\n",
    "\n",
    "# Order by author_steamid and rating (optional for better organization)\n",
    "ordered_user_recs = detailed_user_recs.orderBy(\"author_steamid\", col(\"rating\").desc())\n",
    "\n",
    "# Show the ordered recommendations\n",
    "ordered_user_recs.show(truncate=False)"
   ]
  },
  {
   "cell_type": "code",
   "execution_count": 86,
   "id": "12b8a9e0-2d1a-45c9-ad51-e98e76724d3d",
   "metadata": {},
   "outputs": [
    {
     "name": "stderr",
     "output_type": "stream",
     "text": [
      "[Stage 5112:===================================================> (98 + 2) / 100]\r"
     ]
    },
    {
     "name": "stdout",
     "output_type": "stream",
     "text": [
      "+-----+---------------------------------------------------------------------------------------------------------------------------+\n",
      "|appid|recommendations                                                                                                            |\n",
      "+-----+---------------------------------------------------------------------------------------------------------------------------+\n",
      "|1500 |[{111016570, 0.9828935}, {136152822, 0.955087}, {206996522, 0.9525924}, {253890477, 0.9513529}, {1540483019, 0.94899786}]  |\n",
      "|300  |[{250167120, 0.9747308}, {1281745788, 0.97441274}, {136152822, 0.97297263}, {253890477, 0.96980774}, {53734561, 0.9695108}]|\n",
      "|1280 |[{111016570, 0.9891624}, {1103890628, 0.98634315}, {253890477, 0.9619974}, {136152822, 0.9608458}, {1054905884, 0.9596046}]|\n",
      "+-----+---------------------------------------------------------------------------------------------------------------------------+\n",
      "\n"
     ]
    },
    {
     "name": "stderr",
     "output_type": "stream",
     "text": [
      "                                                                                \r"
     ]
    }
   ],
   "source": [
    "# Select a subset of games (limit to 3 for simplicity)\n",
    "games = recommendation.select(\"appid\").distinct().limit(3)\n",
    "\n",
    "# Generate recommendations for the selected games\n",
    "gameSubsetRecs = model.recommendForItemSubset(games, 5)\n",
    "\n",
    "# Display recommendations\n",
    "gameSubsetRecs.show(5, truncate=False)"
   ]
  },
  {
   "cell_type": "code",
   "execution_count": 88,
   "id": "aeca3ffe-1806-4fa8-bcf1-9470e5cf80e4",
   "metadata": {},
   "outputs": [
    {
     "name": "stderr",
     "output_type": "stream",
     "text": [
      "[Stage 5298:====================================================>(99 + 1) / 100]\r"
     ]
    },
    {
     "name": "stdout",
     "output_type": "stream",
     "text": [
      "+-----+--------------+----------+-----------------------+----------+--------------------------------------------+-------------------+-----+-----------------------+\n",
      "|appid|author_steamid|rating    |name                   |genre     |developer                                   |publisher          |price|label                  |\n",
      "+-----+--------------+----------+-----------------------+----------+--------------------------------------------+-------------------+-----+-----------------------+\n",
      "|2320 |112710692     |1.0559646 |Quake II               |Action    |id Software, Nightdive Studios, MachineGames|Bethesda Softworks |3.99 |Overwhelmingly Positive|\n",
      "|2320 |1054905884    |1.0538441 |Quake II               |Action    |id Software, Nightdive Studios, MachineGames|Bethesda Softworks |3.99 |Overwhelmingly Positive|\n",
      "|2320 |155438115     |1.0142664 |Quake II               |Action    |id Software, Nightdive Studios, MachineGames|Bethesda Softworks |3.99 |Overwhelmingly Positive|\n",
      "|2320 |920354932     |1.0097729 |Quake II               |Action    |id Software, Nightdive Studios, MachineGames|Bethesda Softworks |3.99 |Overwhelmingly Positive|\n",
      "|2320 |1389548686    |1.007876  |Quake II               |Action    |id Software, Nightdive Studios, MachineGames|Bethesda Softworks |3.99 |Overwhelmingly Positive|\n",
      "|2780 |210485274     |0.9541243 |ARMA: Combat Operations|Action    |Bohemia Interactive                         |Bohemia Interactive|0.0  |Mostly Positive        |\n",
      "|2780 |314943007     |0.95318085|ARMA: Combat Operations|Action    |Bohemia Interactive                         |Bohemia Interactive|0.0  |Mostly Positive        |\n",
      "|2780 |899066968     |0.9527391 |ARMA: Combat Operations|Action    |Bohemia Interactive                         |Bohemia Interactive|0.0  |Mostly Positive        |\n",
      "|2780 |38994880      |0.9521588 |ARMA: Combat Operations|Action    |Bohemia Interactive                         |Bohemia Interactive|0.0  |Mostly Positive        |\n",
      "|2780 |1206086141    |0.9499086 |ARMA: Combat Operations|Action    |Bohemia Interactive                         |Bohemia Interactive|0.0  |Mostly Positive        |\n",
      "|2840 |192293414     |1.0462579 |X: Beyond the Frontier |Simulation|Egosoft                                     |Egosoft            |4.99 |Mostly Positive        |\n",
      "|2840 |85139200      |1.0307012 |X: Beyond the Frontier |Simulation|Egosoft                                     |Egosoft            |4.99 |Mostly Positive        |\n",
      "|2840 |44197818      |1.0184271 |X: Beyond the Frontier |Simulation|Egosoft                                     |Egosoft            |4.99 |Mostly Positive        |\n",
      "|2840 |345888656     |1.0160648 |X: Beyond the Frontier |Simulation|Egosoft                                     |Egosoft            |4.99 |Mostly Positive        |\n",
      "|2840 |150077291     |1.0046933 |X: Beyond the Frontier |Simulation|Egosoft                                     |Egosoft            |4.99 |Mostly Positive        |\n",
      "+-----+--------------+----------+-----------------------+----------+--------------------------------------------+-------------------+-----+-----------------------+\n",
      "\n"
     ]
    },
    {
     "name": "stderr",
     "output_type": "stream",
     "text": [
      "                                                                                \r"
     ]
    }
   ],
   "source": [
    "from pyspark.sql.functions import col, explode\n",
    "\n",
    "# Explode the recommendations into separate rows\n",
    "exploded_game_recs = gameSubsetRecs.withColumn(\"recommendation\", explode(col(\"recommendations\")))\n",
    "\n",
    "# Extract appid and rating from recommendations\n",
    "exploded_game_recs = exploded_game_recs.select(\n",
    "    col(\"appid\"),\n",
    "    col(\"recommendation.author_steamid\").alias(\"author_steamid\"),\n",
    "    col(\"recommendation.rating\").alias(\"rating\")\n",
    ")\n",
    "\n",
    "# Join with games_info_unique to include detailed information\n",
    "detailed_game_recs = exploded_game_recs.join(games_info_unique, \"appid\", \"left\")\n",
    "\n",
    "# Order by appid and rating for better organization\n",
    "ordered_game_recs = detailed_game_recs.orderBy(\"appid\", col(\"rating\").desc())\n",
    "\n",
    "# Show the detailed recommendations table\n",
    "ordered_game_recs.show(truncate=False)"
   ]
  },
  {
   "cell_type": "code",
   "execution_count": null,
   "id": "b899809c-ea5c-4747-b4ed-d13083e67b76",
   "metadata": {},
   "outputs": [],
   "source": []
  }
 ],
 "metadata": {
  "kernelspec": {
   "display_name": "Python 3 (ipykernel)",
   "language": "python",
   "name": "python3"
  },
  "language_info": {
   "codemirror_mode": {
    "name": "ipython",
    "version": 3
   },
   "file_extension": ".py",
   "mimetype": "text/x-python",
   "name": "python",
   "nbconvert_exporter": "python",
   "pygments_lexer": "ipython3",
   "version": "3.11.4"
  }
 },
 "nbformat": 4,
 "nbformat_minor": 5
}
